{
 "cells": [
  {
   "cell_type": "markdown",
   "metadata": {},
   "source": [
    "# Python 3 Essential Training"
   ]
  },
  {
   "cell_type": "markdown",
   "metadata": {},
   "source": [
    "### Tom Shaw\n",
    "\n",
    "#### Tutorial Started, November 22 2017"
   ]
  },
  {
   "cell_type": "markdown",
   "metadata": {},
   "source": [
    "## Systems check\n",
    "\n",
    "Do you have a working Python installation, with the `pandas` package ?"
   ]
  },
  {
   "cell_type": "markdown",
   "metadata": {},
   "source": [
    "**Note :** This cell should run without raising a traceback. Assuming it runs, you can also try printing the value of `pd.__version__` to see what version of `pandas` you have installed."
   ]
  },
  {
   "cell_type": "markdown",
   "metadata": {},
   "source": [
    "## 04. General Syntax"
   ]
  },
  {
   "cell_type": "markdown",
   "metadata": {},
   "source": [
    "**0401** `Creating a main script`"
   ]
  },
  {
   "cell_type": "code",
   "execution_count": 6,
   "metadata": {},
   "outputs": [
    {
     "name": "stdout",
     "output_type": "stream",
     "text": [
      "This is the syntax.py file.\n"
     ]
    }
   ],
   "source": [
    "def main():\n",
    "    print(\"This is the syntax.py file.\")\n",
    "\n",
    "# Allows running script with functions in any order.\n",
    "if __name__ == \"__main__\": main()"
   ]
  },
  {
   "cell_type": "markdown",
   "metadata": {},
   "source": [
    "**0402** `Understanding whitespace in Python`"
   ]
  },
  {
   "cell_type": "code",
   "execution_count": 9,
   "metadata": {},
   "outputs": [
    {
     "name": "stdout",
     "output_type": "stream",
     "text": [
      "This is the syntax.py file.\n"
     ]
    }
   ],
   "source": [
    "# Indentation tells python how the code is associated.\n",
    "# Spacing has to be consistent.\n",
    "def main():\n",
    "    print(\"This is the syntax.py file.\")\n",
    "if __name__ == \"__main__\": main()"
   ]
  },
  {
   "cell_type": "markdown",
   "metadata": {},
   "source": [
    "**0403** `Commenting code`"
   ]
  },
  {
   "cell_type": "code",
   "execution_count": 11,
   "metadata": {},
   "outputs": [
    {
     "name": "stdout",
     "output_type": "stream",
     "text": [
      "2\n",
      "3\n",
      "5\n",
      "7\n",
      "11\n",
      "13\n",
      "17\n",
      "19\n",
      "23\n",
      "29\n",
      "31\n",
      "37\n",
      "41\n",
      "43\n",
      "47\n",
      "53\n",
      "59\n",
      "61\n",
      "67\n",
      "71\n",
      "73\n",
      "79\n",
      "83\n",
      "89\n",
      "97\n"
     ]
    }
   ],
   "source": [
    "#!/usr/bin/python3\n",
    "# comments.py by Bill Weinman [http://bw.org/]\n",
    "# This is an exercise file from Python 3 Essential Training on lynda.com\n",
    "# Copyright 2010 The BearHeart Group, LLC\n",
    "\n",
    "def main():\n",
    "    for n in primes():\n",
    "        if n > 100: break\n",
    "        print(n)\n",
    "\n",
    "def isprime(n):\n",
    "    if n == 1: # one is never prime\n",
    "        return False\n",
    "    for x in range(2, n):\n",
    "        if n % x == 0:\n",
    "            return False # found a divisor not prime\n",
    "    else:\n",
    "        return True\n",
    "\n",
    "def primes(n = 1):\n",
    "   while(True):\n",
    "       if isprime(n): yield n # yield makes this a generator\n",
    "       n += 1 \n",
    "\n",
    "if __name__ == \"__main__\": main()"
   ]
  },
  {
   "cell_type": "markdown",
   "metadata": {},
   "source": [
    "**0404** `Assigning values`"
   ]
  },
  {
   "cell_type": "code",
   "execution_count": 21,
   "metadata": {},
   "outputs": [
    {
     "name": "stdout",
     "output_type": "stream",
     "text": [
      "<class 'str'> one\n",
      "<class 'int'> 7\n",
      "<class 'tuple'> (1, 2, 3, 4, 5)\n",
      "<class 'list'> [1, 2, 3, 4, 5]\n",
      "0 1\n",
      "1 0\n"
     ]
    }
   ],
   "source": [
    "# everything in python is obj\n",
    "# A tuple is a sequence of immutable objects, agregate list\n",
    "\n",
    "def main():\n",
    "    a = \"one\"\n",
    "    print(type(a), a) # <class 'str'> one\n",
    "    b = 7\n",
    "    print(type(b), b) # <class 'int'> 7\n",
    "    c = (1, 2, 3, 4, 5) \n",
    "    print(type(c), c) # <class 'tuple'> (1, 2, 3, 4, 5)\n",
    "    d = [1, 2, 3, 4, 5]\n",
    "    print(type(d), d) # <class 'list'> [1, 2, 3, 4, 5]\n",
    "    e, f = 0, 1\n",
    "    print(e, f) # assign multiple values.\n",
    "    e, f = f, e\n",
    "    print(e, f) # swap variables\n",
    "    \n",
    "    \n",
    "    \n",
    "if __name__ == \"__main__\": main()"
   ]
  },
  {
   "cell_type": "markdown",
   "metadata": {},
   "source": [
    "**0405** `Selecting code and values with conditionals`"
   ]
  },
  {
   "cell_type": "code",
   "execution_count": 29,
   "metadata": {},
   "outputs": [
    {
     "name": "stdout",
     "output_type": "stream",
     "text": [
      "a is less than b\n",
      "less than\n"
     ]
    }
   ],
   "source": [
    "# Conditioal execution and conditional expression values.\n",
    "\n",
    "def main():\n",
    "    a, b = 0, 1\n",
    "    if a < b:\n",
    "        print(\"a is less than b\")\n",
    "    elif a > b:\n",
    "        print(\"a is greater than b\")\n",
    "    else: \n",
    "        print(\"a is equal to b\")\n",
    "        \n",
    "    # conditional expression\n",
    "    # value assigned when condition is true\n",
    "    s = \"less than\" if a < b else \"not less than\"\n",
    "    print(s)\n",
    "\n",
    "if __name__ == \"__main__\": main()\n"
   ]
  },
  {
   "cell_type": "markdown",
   "metadata": {},
   "source": [
    "**0406** `Creating and using functions`"
   ]
  },
  {
   "cell_type": "code",
   "execution_count": 38,
   "metadata": {},
   "outputs": [
    {
     "name": "stdout",
     "output_type": "stream",
     "text": [
      "1 2 3 4 5 6 7 8 9 \n",
      "2 3 4 5 6 7 8 9 \n",
      "3 4 5 6 7 8 9 \n",
      "4 5 6 7 8 9 \n",
      "5 6 7 8 9 \n",
      "6 7 8 9 \n",
      "7 8 9 \n",
      "8 9 \n"
     ]
    }
   ],
   "source": [
    "def main():\n",
    "    func(1)\n",
    "    func(2)\n",
    "    func(3)\n",
    "    func(4)\n",
    "    func(5)\n",
    "    func(6)\n",
    "    func(7)\n",
    "    func(8)\n",
    "    \n",
    "def func(a):\n",
    "    for i in range(a, 10):\n",
    "        print(i, end=' ')\n",
    "    print()\n",
    "\n",
    "if __name__ == \"__main__\": main()"
   ]
  },
  {
   "cell_type": "markdown",
   "metadata": {},
   "source": [
    "**0407** `Creating and using objects`"
   ]
  },
  {
   "cell_type": "code",
   "execution_count": 42,
   "metadata": {},
   "outputs": [
    {
     "name": "stdout",
     "output_type": "stream",
     "text": [
      "fried\n",
      "scrambled\n"
     ]
    }
   ],
   "source": [
    "class Egg:\n",
    "    def __init__(self, kind = \"fried\"):\n",
    "        self.kind = kind\n",
    "        \n",
    "    def whatKind(self):\n",
    "        return self.kind\n",
    "        \n",
    "def main():\n",
    "    fried = Egg()\n",
    "    scrambled = Egg(\"scrambled\")\n",
    "    print(fried.whatKind())\n",
    "    print(scrambled.whatKind())\n",
    "    \n",
    "\n",
    "if __name__ == \"__main__\": main()"
   ]
  },
  {
   "cell_type": "markdown",
   "metadata": {},
   "source": [
    "## 05. Variables Objects and Values"
   ]
  },
  {
   "cell_type": "markdown",
   "metadata": {},
   "source": [
    "**0501** `Understanding variables and objects in Python`"
   ]
  },
  {
   "cell_type": "code",
   "execution_count": 12,
   "metadata": {},
   "outputs": [
    {
     "name": "stdout",
     "output_type": "stream",
     "text": [
      "42\n",
      "1841849856\n",
      "<class 'int'>\n"
     ]
    }
   ],
   "source": [
    "# all variables in python are first class objects.\n",
    "# what looks like a simple variable may be something more complex.\n",
    "x = 42\n",
    "print(x)\n",
    "print(id(x))\n",
    "print(type(x))"
   ]
  },
  {
   "cell_type": "markdown",
   "metadata": {},
   "source": [
    "**0502** `Distinguishing mutable and immutable objects`"
   ]
  },
  {
   "cell_type": "markdown",
   "metadata": {},
   "source": [
    "- ** Objects in Python may be mutable or immutable **\n",
    "- ** Mutable objects may change value, immutable objects may not **"
   ]
  },
  {
   "cell_type": "markdown",
   "metadata": {},
   "source": [
    "- May look like it's value changes.\n",
    "- Distinction is visible using id()\n",
    "- Container objects (tuples, lists, etc) may appear to chage value"
   ]
  },
  {
   "cell_type": "code",
   "execution_count": 2,
   "metadata": {},
   "outputs": [
    {
     "name": "stdout",
     "output_type": "stream",
     "text": [
      "42\n",
      "1841849856\n",
      "43\n",
      "1841849888\n",
      "42\n",
      "1841849856\n"
     ]
    }
   ],
   "source": [
    "# Change variable to refer to a different object.\n",
    "x = 42\n",
    "print(x)\n",
    "print(id(x))\n",
    "x = 43\n",
    "print(x)\n",
    "print(id(x))\n",
    "x = 42\n",
    "print(x)\n",
    "print(id(x)) # id is now original value"
   ]
  },
  {
   "cell_type": "markdown",
   "metadata": {},
   "source": [
    "- ** Most fundamental types in Python are immutable. **\n",
    "- numbers, strings, tuples\n",
    "- ** Mutable objects include **\n",
    "- lists, dictionaries, other objects depending upon implementation"
   ]
  },
  {
   "cell_type": "markdown",
   "metadata": {},
   "source": [
    "**0503** `Using numbers`"
   ]
  },
  {
   "cell_type": "code",
   "execution_count": 14,
   "metadata": {},
   "outputs": [
    {
     "name": "stdout",
     "output_type": "stream",
     "text": [
      "42\n",
      "<class 'int'> 42\n",
      "42.0\n",
      "<class 'float'> 42.0\n",
      "4.666666666666667\n",
      "<class 'float'> 4.666666666666667\n",
      "4\n",
      "<class 'int'> 4\n",
      "4.67\n",
      "<class 'float'> 4.67\n",
      "6\n",
      "<class 'int'> 6\n",
      "<class 'int'> 42\n",
      "<class 'float'> 42.9\n"
     ]
    }
   ],
   "source": [
    "# The % (modulo) operator yields the remainder from the division \n",
    "# of the first argument by the second. The numeric arguments are \n",
    "# first converted to a common type. A zero right argument raises \n",
    "# the ZeroDivisionError exception. The arguments may be floating \n",
    "# point numbers, e.g., 3.14%0.7 equals 0.34 (since 3.14 equals 4*0.7 + 0.34.) \n",
    "# The modulo operator always yields a result with the same sign as its second \n",
    "# operand (or zero); the absolute value of the result is strictly smaller than \n",
    "# the absolute value of the second operand.\n",
    "\n",
    "def main():\n",
    "    \n",
    "    num = 42\n",
    "    print(num)\n",
    "    print(type(num), num)\n",
    "    \n",
    "    n = 42.0\n",
    "    print(n)\n",
    "    print(type(n), n)\n",
    "    \n",
    "    x = 42 / 9\n",
    "    print(x)\n",
    "    print(type(x), x)\n",
    "    \n",
    "    i = 42 // 9 #integer division not rounded up\n",
    "    print(i)\n",
    "    print(type(i), i)\n",
    "    \n",
    "    # rounded = round(42 / 9) \n",
    "    rounded = round(42 / 9, 2) #how many digits\n",
    "    print(rounded)\n",
    "    print(type(rounded), rounded)\n",
    "    \n",
    "    # modula\n",
    "    remainder = 42 % 9\n",
    "    print(remainder)\n",
    "    print(type(remainder), remainder)\n",
    "    \n",
    "    # ensure int\n",
    "    num = int(42.9)\n",
    "    print(type(num), num)\n",
    "    \n",
    "    # ensure float\n",
    "    num = float(42.9)\n",
    "    print(type(num), num)\n",
    "\n",
    "if __name__ == \"__main__\": main()"
   ]
  },
  {
   "cell_type": "markdown",
   "metadata": {},
   "source": [
    "**0504** `Using strings`"
   ]
  },
  {
   "cell_type": "code",
   "execution_count": 27,
   "metadata": {},
   "outputs": [
    {
     "name": "stdout",
     "output_type": "stream",
     "text": [
      "This is a string.\n",
      "This is an escape \n",
      "newline character\n",
      "This is \\n now part of the string called raw string.\n",
      "This is a 42 string!\n",
      "This is a 42 string!\n",
      "This is a string\n",
      "line after line\n",
      "of text and more\n",
      "text.\n",
      "\n"
     ]
    }
   ],
   "source": [
    "def main():\n",
    "    s = 'This is a string.'\n",
    "    print(s)\n",
    "    str = \"This is an escape \\nnewline character\"\n",
    "    print(str)\n",
    "    str = r\"This is \\n now part of the string called raw string.\"\n",
    "    print(str)\n",
    "    \n",
    "    # formatting and replacing dereferencing operator\n",
    "    n = 42\n",
    "    str = \"This is a {} string!\".format(n) # Python3\n",
    "    print(str)\n",
    "    \n",
    "    str = \"This is a %s string!\" % n # Python2\n",
    "    print(str)\n",
    "    \n",
    "    str = '''\\\n",
    "This is a string\n",
    "line after line\n",
    "of text and more\n",
    "text.\n",
    "'''\n",
    "    print(str)\n",
    "    \n",
    "\n",
    "if __name__ == \"__main__\": main()"
   ]
  },
  {
   "cell_type": "markdown",
   "metadata": {},
   "source": [
    "**0505** `Aggregating values with lists and tuples`"
   ]
  },
  {
   "cell_type": "code",
   "execution_count": 9,
   "metadata": {},
   "outputs": [
    {
     "name": "stdout",
     "output_type": "stream",
     "text": [
      "(1, 2, 3, 4, 5)\n",
      "<class 'tuple'> (1, 2, 3, 4, 5)\n",
      "1\n",
      "2\n",
      "3\n",
      "4\n",
      "5\n",
      "[7, 1, 2, 3, 5]\n",
      "<class 'list'> [7, 1, 2, 3, 5]\n",
      "<class 'str'> r\n",
      "<class 'str'> ri\n",
      "s\n",
      "t\n",
      "r\n",
      "i\n",
      "n\n",
      "g\n"
     ]
    }
   ],
   "source": [
    "# sequential types\n",
    "\n",
    "def main():\n",
    "    x = (1, 2, 3, 4, 5) # tuple is not immutable object\n",
    "    print(x)\n",
    "    print(type(x), x)\n",
    "    \n",
    "    for i in x:\n",
    "        print(i)\n",
    "    \n",
    "    x = [1, 2, 3] # list is mutable object\n",
    "    x.append(5)\n",
    "    x.insert(0, 7) # insert 7 at 0 index\n",
    "    print(x)\n",
    "    print(type(x), x)\n",
    "    \n",
    "    x = 'string' # string is also an immutable sequence\n",
    "    print(type(x), x[2])\n",
    "    print(type(x), x[2:4]) # get a slice\n",
    "    \n",
    "    for i in x:\n",
    "        print(i)\n",
    "\n",
    "if __name__ == \"__main__\": main()"
   ]
  },
  {
   "cell_type": "markdown",
   "metadata": {},
   "source": [
    "**0506** `Creating associative lists with dictionaries`"
   ]
  },
  {
   "cell_type": "code",
   "execution_count": 17,
   "metadata": {},
   "outputs": [
    {
     "name": "stdout",
     "output_type": "stream",
     "text": [
      "{'one': 1, 'two': 2, 'three': 3, 'four': 4, 'five': 'five', 'seven': 7}\n",
      "<class 'dict'> {'one': 1, 'two': 2, 'three': 3, 'four': 4, 'five': 'five', 'seven': 7}\n",
      "one 1\n",
      "two 2\n",
      "three 3\n",
      "four 4\n",
      "five five\n",
      "seven 7\n"
     ]
    }
   ],
   "source": [
    "# Dictionaries are mutable objects\n",
    "def main():\n",
    "    # d = { 'one': 1, 'two': 2, 'three': 3, 'four': 4, 'five': 5 }\n",
    "    d = dict(\n",
    "        one = 1, two = 2, three = 3, four = 4, five = 'five'\n",
    "    )\n",
    "    d['seven'] = 7\n",
    "    print(d)\n",
    "    print(type(d), d)\n",
    "    \n",
    "    for k in d:\n",
    "    #for k in sorted(d.keys()): # sort alphabeticaly\n",
    "        print(k, d[k])\n",
    "\n",
    "if __name__ == \"__main__\": main()"
   ]
  },
  {
   "cell_type": "markdown",
   "metadata": {},
   "source": [
    "**0507** `Finding the type and identity of a variable`"
   ]
  },
  {
   "cell_type": "code",
   "execution_count": 30,
   "metadata": {},
   "outputs": [
    {
     "name": "stdout",
     "output_type": "stream",
     "text": [
      "42\n",
      "1841718784\n",
      "<class 'int'>\n",
      "1841718784\n",
      "True\n",
      "True\n",
      "2142714705024\n",
      "2142714757984\n",
      "True\n",
      "False\n"
     ]
    }
   ],
   "source": [
    "def main():\n",
    "    x = 42\n",
    "    print(x)\n",
    "    print(id(x))\n",
    "    print(type(x))\n",
    "    y = 42\n",
    "    print(id(x)) # exactly the same address\n",
    "    print(x == y)\n",
    "    print(x is y) # test if exactly the same object. Compares ids\n",
    "    \n",
    "    x = dict(x = 42)\n",
    "    print(id(x))\n",
    "    \n",
    "    y = dict( x = 42 )\n",
    "    print(id(y)) # different id because dictionaries are mutable\n",
    "    \n",
    "    print( x == y ) # same values\n",
    "    print( x is y ) # not the same object\n",
    "\n",
    "if __name__ == \"__main__\": main()"
   ]
  },
  {
   "cell_type": "markdown",
   "metadata": {},
   "source": [
    "**0508** `Specifying logical values with True and False`"
   ]
  },
  {
   "cell_type": "code",
   "execution_count": 37,
   "metadata": {},
   "outputs": [
    {
     "name": "stdout",
     "output_type": "stream",
     "text": [
      "False\n",
      "True\n",
      "False\n",
      "True\n",
      "1841225952\n",
      "<class 'bool'>\n",
      "True\n",
      "1841225952\n",
      "<class 'bool'>\n",
      "1841225952\n"
     ]
    }
   ],
   "source": [
    "# true/false are boolean objects\n",
    "def main():\n",
    "    a, b = 0, 1\n",
    "    print(a == b) # equality operator \n",
    "    print(a < b)\n",
    "    print(a > b)\n",
    "    \n",
    "    a = True\n",
    "    print(a)\n",
    "    print(id(a))\n",
    "    print(type(a))\n",
    "    \n",
    "    b = True\n",
    "    print(b)\n",
    "    print(id(b))\n",
    "    print(type(b))\n",
    "    \n",
    "    print(id(True))\n",
    "\n",
    "if __name__ == \"__main__\": main()"
   ]
  },
  {
   "cell_type": "markdown",
   "metadata": {},
   "source": [
    "## 06. Conditionals"
   ]
  },
  {
   "cell_type": "markdown",
   "metadata": {},
   "source": [
    "**0601** `Selecting code with if and else conditional statements`"
   ]
  },
  {
   "cell_type": "code",
   "execution_count": 1,
   "metadata": {},
   "outputs": [
    {
     "name": "stdout",
     "output_type": "stream",
     "text": [
      "this is true\n"
     ]
    }
   ],
   "source": [
    "def main():\n",
    "    a, b = 0, 1\n",
    "    if a < b:\n",
    "        print(\"this is true\")\n",
    "    else: \n",
    "        print(\"it is not true\")\n",
    "\n",
    "if __name__ == \"__main__\": main()"
   ]
  },
  {
   "cell_type": "markdown",
   "metadata": {},
   "source": [
    "**0602** `Setting multiple choices with elif`"
   ]
  },
  {
   "cell_type": "code",
   "execution_count": 4,
   "metadata": {},
   "outputs": [
    {
     "name": "stdout",
     "output_type": "stream",
     "text": [
      "v is something else\n"
     ]
    }
   ],
   "source": [
    "def main():\n",
    "    v = 'seven'\n",
    "    if v == 'one':\n",
    "        print(\"v is one\")\n",
    "    elif v == 'two':\n",
    "        print(\"v is two\")\n",
    "    elif v == 'three':\n",
    "        print(\"v is three\")\n",
    "    else: \n",
    "        print(\"v is something else\")\n",
    "\n",
    "if __name__ == \"__main__\": main()"
   ]
  },
  {
   "cell_type": "markdown",
   "metadata": {},
   "source": [
    "**0603** `Understanding other strategies for multiple choices`"
   ]
  },
  {
   "cell_type": "code",
   "execution_count": 11,
   "metadata": {},
   "outputs": [
    {
     "name": "stdout",
     "output_type": "stream",
     "text": [
      "first\n",
      "other\n"
     ]
    }
   ],
   "source": [
    "# Python version of switch\n",
    "def main():\n",
    "    \n",
    "    choices = dict(\n",
    "        one = 'first',\n",
    "        two = 'second',\n",
    "        three = 'third',\n",
    "        four = 'fourth',\n",
    "        five = 'fifth'\n",
    "    )\n",
    "    \n",
    "    v = 'one'\n",
    "    print(choices[v])\n",
    "    \n",
    "    v = 'seven'\n",
    "    print(choices.get(v, 'other')) # default value\n",
    "\n",
    "if __name__ == \"__main__\": main()"
   ]
  },
  {
   "cell_type": "markdown",
   "metadata": {},
   "source": [
    "**0604** `Using the conditional expression`"
   ]
  },
  {
   "cell_type": "code",
   "execution_count": 14,
   "metadata": {},
   "outputs": [
    {
     "name": "stdout",
     "output_type": "stream",
     "text": [
      "this is not true\n"
     ]
    }
   ],
   "source": [
    "def main():\n",
    "    a, b = 1, 1\n",
    "    v = 'this is true' if a < b else 'this is not true'\n",
    "    print(v)\n",
    "\n",
    "if __name__ == \"__main__\": main()"
   ]
  },
  {
   "cell_type": "markdown",
   "metadata": {},
   "source": [
    "## 07. Loops"
   ]
  },
  {
   "cell_type": "markdown",
   "metadata": {},
   "source": [
    "**0701** `Creating loops with while`"
   ]
  },
  {
   "cell_type": "code",
   "execution_count": 17,
   "metadata": {},
   "outputs": [
    {
     "name": "stdout",
     "output_type": "stream",
     "text": [
      "1 1 2 3 5 8 13 21 34 "
     ]
    }
   ],
   "source": [
    "# Simple fibonacci series\n",
    "# Sum of two elements defines the next set\n",
    "def main():\n",
    "    a, b = 0, 1\n",
    "    while b < 50:\n",
    "        print(b, end=' ')\n",
    "        a, b = b, a + b\n",
    "\n",
    "if __name__ == \"__main__\": main()"
   ]
  },
  {
   "cell_type": "markdown",
   "metadata": {},
   "source": [
    "**0702** `Iterating with for`"
   ]
  },
  {
   "cell_type": "code",
   "execution_count": 25,
   "metadata": {},
   "outputs": [
    {
     "name": "stdout",
     "output_type": "stream",
     "text": [
      "01 This is a line of text\n",
      "02 This is a line of text\n",
      "03 This is a line of text\n",
      "04 This is a line of text\n",
      "05 This is a line of text\n",
      "1\n",
      "2\n",
      "3\n",
      "4\n",
      "5\n",
      "s\n",
      "t\n",
      "r\n",
      "i\n",
      "n\n",
      "g\n"
     ]
    }
   ],
   "source": [
    "# The for loop is the most common because \n",
    "# so many objects in Python are iterators.\n",
    "def main():\n",
    "    fh = open('lines.txt')\n",
    "    \n",
    "    for line in fh.readlines(): # iterator\n",
    "        print(line, end='') # remove newline\n",
    "        \n",
    "    for line in [1, 2, 3, 4, 5]: # iterator\n",
    "        print(line) # remove newline\n",
    "        \n",
    "    for line in 'string': # iterator\n",
    "        print(line) # remove newline\n",
    "\n",
    "if __name__ == \"__main__\": main()\n"
   ]
  },
  {
   "cell_type": "markdown",
   "metadata": {},
   "source": [
    "**0703** `Enumerating iterators`"
   ]
  },
  {
   "cell_type": "code",
   "execution_count": 37,
   "metadata": {},
   "outputs": [
    {
     "name": "stdout",
     "output_type": "stream",
     "text": [
      "0 01 This is a line of text\n",
      "1 02 This is a line of text\n",
      "2 03 This is a line of text\n",
      "3 04 This is a line of text\n",
      "4 05 This is a line of text\n",
      "0 t\n",
      "1 h\n",
      "2 i\n",
      "3 s\n",
      "5 i\n",
      "6 s\n",
      "8 a\n",
      "10 s\n",
      "11 t\n",
      "12 r\n",
      "13 i\n",
      "14 n\n",
      "15 g\n",
      "index 3 is an s\n",
      "index 6 is an s\n",
      "index 10 is an s\n"
     ]
    }
   ],
   "source": [
    "def isNotEmpty(s):\n",
    "    return bool(s and s.strip())\n",
    "\n",
    "def main():\n",
    "    fh = open('lines.txt')\n",
    "    for index, line in enumerate(fh.readlines()):\n",
    "        print(index, line, end='')\n",
    "        \n",
    "    s = 'this is a string'    \n",
    "    for i, c in enumerate(s):\n",
    "        if isNotEmpty(c):\n",
    "            print(i, c)\n",
    "    \n",
    "    for i, c in enumerate(s):\n",
    "        if c == 's': print('index {} is an s'.format(i))\n",
    "\n",
    "if __name__ == \"__main__\": main()"
   ]
  },
  {
   "cell_type": "markdown",
   "metadata": {},
   "source": [
    "**0704** `Controlling loop flow with break continue and else`"
   ]
  },
  {
   "cell_type": "code",
   "execution_count": 45,
   "metadata": {},
   "outputs": [
    {
     "name": "stdout",
     "output_type": "stream",
     "text": [
      "thi i a tringthithis is a stringelse\n"
     ]
    }
   ],
   "source": [
    "# else is used when condition becomes false\n",
    "# or when never ture in the first place.\n",
    "def main():\n",
    "    s = 'this is a string'\n",
    "    for c in s:\n",
    "        if c == 's': continue # stop/get next iteration\n",
    "        print(c, end='')\n",
    "        \n",
    "    for c in s:\n",
    "        if c == 's': break # exit loop entirely\n",
    "        print(c, end='')\n",
    "    else:\n",
    "        print('else')\n",
    "    \n",
    "    i = 0\n",
    "    while(i < len(s)):\n",
    "        print(s[i], end='')\n",
    "        i += 1\n",
    "    else:\n",
    "        print('else')\n",
    "\n",
    "if __name__ == \"__main__\": main()"
   ]
  },
  {
   "cell_type": "markdown",
   "metadata": {},
   "source": [
    "## 08. Operators"
   ]
  },
  {
   "cell_type": "markdown",
   "metadata": {},
   "source": [
    "**0801** `Performing simple arithmetic`"
   ]
  },
  {
   "cell_type": "code",
   "execution_count": 12,
   "metadata": {},
   "outputs": [
    {
     "name": "stdout",
     "output_type": "stream",
     "text": [
      "10\n",
      "25\n",
      "2\n",
      "1.6666666666666667\n",
      "1\n",
      "2\n",
      "(1, 2)\n",
      "6\n",
      "5\n",
      "25\n",
      "5\n",
      "5.0\n"
     ]
    }
   ],
   "source": [
    "# Arithmetic operators\n",
    "print(5 +5)\n",
    "print(5 * 5)\n",
    "print(5 - 3)\n",
    "print(5 / 3)\n",
    "print(5 // 3) # floor int division\n",
    "print(5 % 3) # modula division\n",
    "print(divmod(5, 3)) #return tuple\n",
    "num = 5\n",
    "num += 1\n",
    "print(num)\n",
    "num -= 1\n",
    "print(num)\n",
    "num *= 5\n",
    "print(num)\n",
    "num //= 5\n",
    "print(num)\n",
    "num *= 5\n",
    "num /= 5\n",
    "print(num)"
   ]
  },
  {
   "cell_type": "markdown",
   "metadata": {},
   "source": [
    "**0802** `Operating on bitwise values`"
   ]
  },
  {
   "cell_type": "code",
   "execution_count": 29,
   "metadata": {},
   "outputs": [
    {
     "name": "stdout",
     "output_type": "stream",
     "text": [
      "00000101\n",
      "None\n",
      "01010101\n",
      "None\n",
      "10101010\n",
      "None\n",
      "11111111\n",
      "None\n",
      "00000000\n",
      "None\n",
      "11111111\n",
      "None\n",
      "00000000\n",
      "None\n",
      "01010101\n",
      "None\n",
      "10101010000\n",
      "None\n",
      "00000101\n",
      "None\n",
      "-1010110\n",
      "None\n"
     ]
    }
   ],
   "source": [
    "# Python bitwise operators\n",
    "\n",
    "# print binary values\n",
    "def b(n): print('{:08b}'.format(n))\n",
    "    \n",
    "x = b(5)\n",
    "print(x)\n",
    "\n",
    "x, y = 0x55, 0xaa\n",
    "\n",
    "print(b(x))\n",
    "print(b(y))\n",
    "print(b(x | y)) # or operator\n",
    "print(b(x & y)) # and operator clear bits\n",
    "print(b(x ^ y)) # exclusive or\n",
    "print(b(x & 0))\n",
    "print(b(x & 0xff))\n",
    "print(b(x << 4)) # shift operators\n",
    "print(b(x >> 4))\n",
    "print(b(~ x)) # compliment operator. operates on words size"
   ]
  },
  {
   "cell_type": "markdown",
   "metadata": {},
   "source": [
    "**0803** `Comparing values`"
   ]
  },
  {
   "cell_type": "code",
   "execution_count": 45,
   "metadata": {},
   "outputs": [
    {
     "name": "stdout",
     "output_type": "stream",
     "text": [
      "True\n",
      "False\n",
      "True\n",
      "True\n",
      "True\n",
      "True\n",
      "False\n",
      "True\n",
      "False\n",
      "True\n",
      "False\n",
      "1841848672\n",
      "1841848704\n",
      "False\n",
      "True\n",
      "1841848672\n",
      "2233530687176\n",
      "2233529213256\n",
      "True\n",
      "False\n"
     ]
    }
   ],
   "source": [
    "# Testing identity of object\n",
    "\n",
    "print(5 < 6)\n",
    "print(6 < 5)\n",
    "print(5 <= 6)\n",
    "print(5 <= 5)\n",
    "print(6 >= 5)\n",
    "print(6 >= 6)\n",
    "print(6 >= 7)\n",
    "print(5 == 5)\n",
    "print(5 == 6)\n",
    "print(6 != 7)\n",
    "print(6 != 6)\n",
    "x, y = 5, 6\n",
    "print(id(x))\n",
    "print(id(y))\n",
    "print(x is y)\n",
    "print(x is not y)\n",
    "y = 5\n",
    "print(id(y)) \n",
    "x, y = [5], [5]\n",
    "print(id(x))\n",
    "print(id(y))\n",
    "print(x == y)\n",
    "print(x is y) # different ids/objects"
   ]
  },
  {
   "cell_type": "markdown",
   "metadata": {},
   "source": [
    "**0804** `Operating on Boolean values`"
   ]
  },
  {
   "cell_type": "code",
   "execution_count": 59,
   "metadata": {},
   "outputs": [
    {
     "name": "stdout",
     "output_type": "stream",
     "text": [
      "True\n",
      "False\n",
      "<class 'bool'>\n",
      "False\n",
      "True\n",
      "False\n",
      "True\n",
      "False\n",
      "True\n",
      "True\n",
      "False\n",
      "True\n",
      "no\n"
     ]
    }
   ],
   "source": [
    "# Boolean operators\n",
    "\n",
    "print(5 == 5)\n",
    "print(7 < 5)\n",
    "print(type(True))\n",
    "\n",
    "print(True and False)\n",
    "print(True and True)\n",
    "print(False and True)\n",
    "print(True or False)\n",
    "print(False or False)\n",
    "print(True & True) # bitwise operator different from boolean\n",
    "print(True or False)\n",
    "\n",
    "a, b = 0, 1\n",
    "x, y = 'zero', 'one'\n",
    "print(x < y)\n",
    "print(a < b)\n",
    "if a < b and x < y: print('yes')\n",
    "else: print('no')"
   ]
  },
  {
   "cell_type": "markdown",
   "metadata": {},
   "source": [
    "**0805** `Operating on parts of a container with the slice operator`"
   ]
  },
  {
   "cell_type": "code",
   "execution_count": 79,
   "metadata": {},
   "outputs": [
    {
     "name": "stdout",
     "output_type": "stream",
     "text": [
      "1\n",
      "2\n",
      "10\n",
      "[1, 2, 3, 4, 5]\n",
      "range(0, 10)\n",
      "0\n",
      "1\n",
      "2\n",
      "3\n",
      "4\n",
      "5\n",
      "6\n",
      "7\n",
      "8\n",
      "9\n",
      "[1, 2, 3, 4, 5, 6, 7, 8, 9, 10]\n",
      "[0, 1, 2, 3, 4, 5, 6, 7, 8, 9, 10, 11, 12, 13, 14, 15, 16, 17, 18, 19, 20, 21, 22, 23, 24, 25, 26, 27, 28, 29, 30, 31, 32, 33, 34, 35, 36, 37, 38, 39, 40, 41, 42, 43, 44, 45, 46, 47, 48, 49, 50, 51, 52, 53, 54, 55, 56, 57, 58, 59, 60, 61, 62, 63, 64, 65, 66, 67, 68, 69, 70, 71, 72, 73, 74, 75, 76, 77, 78, 79, 80, 81, 82, 83, 84, 85, 86, 87, 88, 89, 90, 91, 92, 93, 94, 95, 96, 97, 98, 99]\n",
      "27\n",
      "[27, 28, 29, 30, 31, 32, 33, 34, 35, 36, 37, 38, 39, 40, 41]\n",
      "[27, 30, 33, 36, 39]\n",
      "27\n",
      "30\n",
      "33\n",
      "36\n",
      "39\n",
      "42\n",
      "[0, 1, 2, 3, 4, 5, 6, 7, 8, 9, 10, 11, 12, 13, 14, 15, 16, 17, 18, 19, 20, 21, 22, 23, 24, 25, 26, 99, 28, 29, 99, 31, 32, 99, 34, 35, 99, 37, 38, 99, 40, 41, 99, 43, 44, 45, 46, 47, 48, 49, 50, 51, 52, 53, 54, 55, 56, 57, 58, 59, 60, 61, 62, 63, 64, 65, 66, 67, 68, 69, 70, 71, 72, 73, 74, 75, 76, 77, 78, 79, 80, 81, 82, 83, 84, 85, 86, 87, 88, 89, 90, 91, 92, 93, 94, 95, 96, 97, 98, 99]\n"
     ]
    }
   ],
   "source": [
    "# Slices, parts of a container\n",
    "list = []\n",
    "list = [1,2,3,4,5,6,7,8,9,10]\n",
    "print(list[0])\n",
    "print(list[1])\n",
    "print(list[9])\n",
    "print(list[0:5]) # slice syntax\n",
    "print(range(0, 10)) # range\n",
    "for i in range(0,10): print(i)\n",
    "print(list[0:10])\n",
    "list[:] = range(100)\n",
    "print(list)\n",
    "print(list[27])\n",
    "print(list[27:42])\n",
    "print(list[27:42:3]) # slice get every third element, step argument\n",
    "\n",
    "for i in list[27:43:3] : print(i)\n",
    "    \n",
    "list[27:43:3] = (99,99,99,99,99, 99) # assign to slice\n",
    "print(list)"
   ]
  },
  {
   "cell_type": "markdown",
   "metadata": {},
   "source": [
    "**0806** `Understanding operator precedence`"
   ]
  },
  {
   "cell_type": "code",
   "execution_count": 83,
   "metadata": {},
   "outputs": [
    {
     "name": "stdout",
     "output_type": "stream",
     "text": [
      "132.0\n",
      "97.5\n"
     ]
    }
   ],
   "source": [
    "# Which operations get evaluated first\n",
    "# Multiplacation/Division have higher precedence than Addition/Subtraction\n",
    "\n",
    "# 1. 5 * 25 = 125\n",
    "# 2. 14 / 2 = 7\n",
    "# 3. 125 + 7 = 132\n",
    "print(5 * 25 + 14 / 2)\n",
    "\n",
    "# Get different result\n",
    "# 1. 25 + 14 = 39\n",
    "# 2. 39 / 2 = 19.5\n",
    "# 3. 19.5 * 5 = 97.5\n",
    "print(5 * ( 25 + 14 ) / 2)\n",
    "\n"
   ]
  },
  {
   "cell_type": "markdown",
   "metadata": {},
   "source": [
    "## 09. Regular Expressions"
   ]
  },
  {
   "cell_type": "markdown",
   "metadata": {},
   "source": [
    "**0901** `Using Regular Expression`"
   ]
  },
  {
   "cell_type": "markdown",
   "metadata": {},
   "source": [
    "- Regular expressions are a very powerfull method of matching patterns in text.\n",
    "- Actually a small language in itself, regexes can be very simple or complex\n",
    "- Implemented in Python with the \"re\" module"
   ]
  },
  {
   "cell_type": "code",
   "execution_count": 86,
   "metadata": {},
   "outputs": [],
   "source": [
    "import re\n",
    "pattern = re.compile(r'\\d\\d\\d')\n",
    "# if re.search(regex, line): print(line)"
   ]
  },
  {
   "cell_type": "markdown",
   "metadata": {},
   "source": [
    "**0902** `Searching with regular expressions`"
   ]
  },
  {
   "cell_type": "code",
   "execution_count": 3,
   "metadata": {},
   "outputs": [
    {
     "name": "stdout",
     "output_type": "stream",
     "text": [
      "From my books surcease of sorrow - sorrow for the lost Lenore -\n",
      "Lenore\n",
      "For the rare and radiant maiden whom the angels named Lenore -\n",
      "Lenore\n",
      "And the only word there spoken was the whispered word, \"Lenore!\"\n",
      "Lenore\n",
      "This I whispered, and an echo murmured back the word, \"Lenore!\"\n",
      "Lenore\n",
      "Quoth the raven, \"Nevermore.\"\n",
      "Nevermore\n",
      "With such name as \"Nevermore.\"\n",
      "Nevermore\n",
      "Then the bird said, \"Nevermore.\"\n",
      "Nevermore\n",
      "Meant in croaking \"Nevermore.\"\n",
      "Nevermore\n",
      "Respite - respite and nepenthe from thy memories of Lenore!\n",
      "Lenore\n",
      "Quaff, oh quaff this kind nepenthe, and forget this lost Lenore!\"\n",
      "Lenore\n",
      "Quoth the raven, \"Nevermore.\"\n",
      "Nevermore\n",
      "Quoth the raven, \"Nevermore.\"\n",
      "Nevermore\n",
      "It shall clasp a sainted maiden whom the angels named Lenore -\n",
      "Lenore\n",
      "Clasp a rare and radiant maiden, whom the angels named Lenore?\"\n",
      "Lenore\n",
      "Quoth the raven, \"Nevermore.\"\n",
      "Nevermore\n",
      "Quoth the raven, \"Nevermore.\"\n",
      "Nevermore\n"
     ]
    }
   ],
   "source": [
    "import re\n",
    "\n",
    "def main():\n",
    "    fh = open('raven.txt')\n",
    "    for line in fh:\n",
    "        # look for lenore or nevermore\n",
    "        if re.search('(Len|Neverm)ore', line):\n",
    "            print(line, end='')\n",
    "            \n",
    "        match = re.search('(Len|Neverm)ore', line)\n",
    "        if match:\n",
    "            print(match.group())\n",
    "\n",
    "if __name__ == \"__main__\": main()"
   ]
  },
  {
   "cell_type": "markdown",
   "metadata": {},
   "source": [
    "**0903** `Replacing with regular expressions`"
   ]
  },
  {
   "cell_type": "code",
   "execution_count": 9,
   "metadata": {},
   "outputs": [
    {
     "name": "stdout",
     "output_type": "stream",
     "text": [
      "From my books surcease of sorrow - sorrow for the lost ### -\n",
      "For the rare and radiant maiden whom the angels named ### -\n",
      "And the only word there spoken was the whispered word, \"###!\"\n",
      "This I whispered, and an echo murmured back the word, \"###!\"\n",
      "Quoth the raven, \"###.\"\n",
      "With such name as \"###.\"\n",
      "Then the bird said, \"###.\"\n",
      "Meant in croaking \"###.\"\n",
      "Respite - respite and nepenthe from thy memories of ###!\n",
      "Quaff, oh quaff this kind nepenthe, and forget this lost ###!\"\n",
      "Quoth the raven, \"###.\"\n",
      "Quoth the raven, \"###.\"\n",
      "It shall clasp a sainted maiden whom the angels named ### -\n",
      "Clasp a rare and radiant maiden, whom the angels named ###?\"\n",
      "Quoth the raven, \"###.\"\n",
      "Quoth the raven, \"###.\"\n"
     ]
    }
   ],
   "source": [
    "import re\n",
    "\n",
    "def main():\n",
    "    fh = open('raven.txt')\n",
    "    #for line in fh:\n",
    "        #print(re.sub('(Len|Neverm)ore', '###', line), end='')\n",
    "\n",
    "    for line in fh:\n",
    "        match = re.search('(Len|Neverm)ore', line)\n",
    "        if match:\n",
    "            print(line.replace(match.group(), '###'), end='')\n",
    "\n",
    "if __name__ == \"__main__\": main()"
   ]
  },
  {
   "cell_type": "markdown",
   "metadata": {},
   "source": [
    "**0904** `Reusing regular expressions with re.compile`"
   ]
  },
  {
   "cell_type": "code",
   "execution_count": 14,
   "metadata": {},
   "outputs": [
    {
     "name": "stdout",
     "output_type": "stream",
     "text": [
      "From my books surcease of sorrow - sorrow for the lost ### -\n",
      "For the rare and radiant maiden whom the angels named ### -\n",
      "And the only word there spoken was the whispered word, \"###!\"\n",
      "This I whispered, and an echo murmured back the word, \"###!\"\n",
      "Quoth the raven, \"###.\"\n",
      "With such name as \"###.\"\n",
      "Then the bird said, \"###.\"\n",
      "Of 'Never-###.'\"\n",
      "Meant in croaking \"###.\"\n",
      "She shall press, ah, ###!\n",
      "Respite - respite and nepenthe from thy memories of ###!\n",
      "Quaff, oh quaff this kind nepenthe, and forget this lost ###!\"\n",
      "Quoth the raven, \"###.\"\n",
      "Quoth the raven, \"###.\"\n",
      "It shall clasp a sainted maiden whom the angels named ### -\n",
      "Clasp a rare and radiant maiden, whom the angels named ###?\"\n",
      "Quoth the raven, \"###.\"\n",
      "Quoth the raven, \"###.\"\n",
      "Shall be lifted - ###!\n"
     ]
    }
   ],
   "source": [
    "# Pre-compile pattern for efficiency\n",
    "import re\n",
    "\n",
    "def main():\n",
    "    fh = open('raven.txt')\n",
    "    pattern = re.compile('(Len|Neverm)ore', re.IGNORECASE)\n",
    "    for line in fh:\n",
    "        if re.search(pattern, line):\n",
    "            # print(line, end='')\n",
    "            print(pattern.sub('###', line), end='')\n",
    "\n",
    "if __name__ == \"__main__\": main()"
   ]
  },
  {
   "cell_type": "markdown",
   "metadata": {},
   "source": [
    "## 10. Exceptions"
   ]
  },
  {
   "cell_type": "markdown",
   "metadata": {},
   "source": [
    "**1001** `Learning how exceptions work`"
   ]
  },
  {
   "cell_type": "markdown",
   "metadata": {},
   "source": [
    "- Exceptions are the key method of handlinf errors in Python\n",
    "- \"try\" something, then catch an exception with \"except\"\n",
    "- You may raise your own exceptions with \"raise\""
   ]
  },
  {
   "cell_type": "markdown",
   "metadata": {},
   "source": [
    "**1002** `Handling exceptions`"
   ]
  },
  {
   "cell_type": "code",
   "execution_count": 28,
   "metadata": {},
   "outputs": [
    {
     "name": "stdout",
     "output_type": "stream",
     "text": [
      "could not open the file: [Errno 2] No such file or directory: 'xlines.doc'\n"
     ]
    }
   ],
   "source": [
    "def main():\n",
    "    try: \n",
    "        fh = open('xlines.txt')\n",
    "    # except: # catch any error\n",
    "    except IOError as e:\n",
    "        print('could not open the file:', e)\n",
    "    else: \n",
    "        for line in fh: print(line.strip())\n",
    "\n",
    "if __name__ == \"__main__\": main()"
   ]
  },
  {
   "cell_type": "markdown",
   "metadata": {},
   "source": [
    "**1003** `Raising exceptions`"
   ]
  },
  {
   "cell_type": "code",
   "execution_count": 29,
   "metadata": {},
   "outputs": [
    {
     "name": "stdout",
     "output_type": "stream",
     "text": [
      "bad filename: Filename must end with .txt\n"
     ]
    }
   ],
   "source": [
    "def main():\n",
    "    try: \n",
    "        for line in readfile('lines.doc'): print(line.strip())\n",
    "    except IOError as e:\n",
    "        print('cannot read file:', e)\n",
    "    except ValueError as e:\n",
    "        print('bad filename:', e)\n",
    "        \n",
    "def readfile(filename):\n",
    "    if filename.endswith('.txt'):\n",
    "        fh = open(filename)\n",
    "        return fh.readlines()\n",
    "    else: raise ValueError('Filename must end with .txt')\n",
    "\n",
    "if __name__ == \"__main__\": main()"
   ]
  },
  {
   "cell_type": "markdown",
   "metadata": {},
   "source": [
    "## 11. Functions"
   ]
  },
  {
   "cell_type": "markdown",
   "metadata": {},
   "source": [
    "**1101** `Defining functions`"
   ]
  },
  {
   "cell_type": "code",
   "execution_count": 41,
   "metadata": {},
   "outputs": [
    {
     "name": "stdout",
     "output_type": "stream",
     "text": [
      "This is a test function: 42 None 75\n",
      "This is a test function: 42 112 75\n"
     ]
    }
   ],
   "source": [
    "def main():\n",
    "    testfunc(42)\n",
    "\n",
    "def testfunc(num, another = None, onemore = 75):\n",
    "    # body of func required\n",
    "    print('This is a test function:', num, another, onemore)\n",
    "    \n",
    "    if another is None:\n",
    "        another = 112\n",
    "        \n",
    "    print('This is a test function:', num, another, onemore)\n",
    "    \n",
    "def testStub():\n",
    "    pass\n",
    "\n",
    "if __name__ == \"__main__\": main()"
   ]
  },
  {
   "cell_type": "markdown",
   "metadata": {},
   "source": [
    "**1102** `Using lists of arguments`"
   ]
  },
  {
   "cell_type": "code",
   "execution_count": 57,
   "metadata": {},
   "outputs": [
    {
     "name": "stdout",
     "output_type": "stream",
     "text": [
      "1 2 3 (42, 43, 45, 'Hello Word')\n",
      "424345Hello WordHello Word "
     ]
    }
   ],
   "source": [
    "def main():\n",
    "    testfunc(1, 2, 3, 42, 43, 45, 'Hello Word')\n",
    "\n",
    "def testfunc(this, that, other, *args):\n",
    "    print(this, that, other, args) # args is a tuple\n",
    "    for n in args: print(n, end='')\n",
    "    \n",
    "    print(args[3], end=' ')\n",
    "\n",
    "if __name__ == \"__main__\": main()"
   ]
  },
  {
   "cell_type": "markdown",
   "metadata": {},
   "source": [
    "**1103** `Using named function arguments`"
   ]
  },
  {
   "cell_type": "code",
   "execution_count": 64,
   "metadata": {},
   "outputs": [
    {
     "name": "stdout",
     "output_type": "stream",
     "text": [
      "This is a test function 1 2 4\n",
      "tuple arguments:  (8, 9, 10)\n",
      "8\n",
      "9\n",
      "10\n",
      "one 1\n",
      "two 2\n",
      "four 4\n"
     ]
    }
   ],
   "source": [
    "# Passing named arguments to a function. Very common for settings, flags.\n",
    "\n",
    "def main():\n",
    "    testfunc(5, 6, 7, 8, 9, 10, one = 1, two = 2, four = 4) # caller passing named arguments\n",
    "\n",
    "def testfunc(this, that, other, *args, **kwargs): # keyword arguments dictionary\n",
    "    print('This is a test function', kwargs['one'], kwargs['two'], kwargs['four'])\n",
    "    print('tuple arguments: ', args)\n",
    "    \n",
    "    for n in args: print(n)\n",
    "    \n",
    "    for k in kwargs: print(k, kwargs[k])\n",
    "    \n",
    "if __name__ == \"__main__\": main()"
   ]
  },
  {
   "cell_type": "markdown",
   "metadata": {},
   "source": [
    "**1104** `Returning values from functions`"
   ]
  },
  {
   "cell_type": "code",
   "execution_count": 68,
   "metadata": {},
   "outputs": [
    {
     "name": "stdout",
     "output_type": "stream",
     "text": [
      "This is a test function\n",
      "25\n",
      "0 1 2 3 4 5 6 7 8 9 10 11 12 13 14 15 16 17 18 19 20 21 22 23 24 "
     ]
    }
   ],
   "source": [
    "# Returning values from a func\n",
    "def main():\n",
    "    print(testfuncA())\n",
    "    print(testfuncB())\n",
    "    for n in testfuncC(): print(n, end=' ')\n",
    "\n",
    "def testfuncA():\n",
    "    return 'This is a test function'\n",
    "\n",
    "def testfuncB():\n",
    "    return 25\n",
    "\n",
    "def testfuncC():\n",
    "    return range(25)\n",
    "\n",
    "if __name__ == \"__main__\": main()"
   ]
  },
  {
   "cell_type": "markdown",
   "metadata": {},
   "source": [
    "**1105** `Creating a sequence with a generator function`"
   ]
  },
  {
   "cell_type": "code",
   "execution_count": 77,
   "metadata": {},
   "outputs": [
    {
     "name": "stdout",
     "output_type": "stream",
     "text": [
      "This is the functions.py file.\n",
      "0 1 2 3 4 5 6 7 8 9 10 11 12 13 14 15 16 17 18 19 20 21 22 23 24 25 0 1 2 3 4 5 6 7 8 9 10 11 12 13 14 15 16 17 18 19 20 21 22 23 24 25 "
     ]
    }
   ],
   "source": [
    "def main():\n",
    "    print(\"This is the functions.py file.\")\n",
    "    for i in inclusive_range(0, 25, 1):\n",
    "        print(i, end = ' ')\n",
    "    for i in inclusive_range_arguments(25):\n",
    "        print(i, end = ' ')\n",
    "        \n",
    "def inclusive_range(start, stop, step):\n",
    "    i = start\n",
    "    while i <= stop:\n",
    "        yield i\n",
    "        i += step\n",
    "        \n",
    "def inclusive_range_arguments(*args):\n",
    "    numargs = len(args)\n",
    "    if numargs < 1: raise TypeError('requires atleast one argument')\n",
    "    elif numargs == 1:\n",
    "        stop = args[0]\n",
    "        start = 0\n",
    "        step = 1\n",
    "    elif numargs == 2:\n",
    "        (start, stop) = args\n",
    "        step = 1\n",
    "    elif numargs == 3:\n",
    "        (start, stop, step) = args\n",
    "    else: raise TypeError('incluseive_range_arguments expected at most 3 arguments, got {}'.format(numargs))\n",
    "    i = start\n",
    "    while i <= stop:\n",
    "        yield i\n",
    "        i += step\n",
    "\n",
    "if __name__ == \"__main__\": main()"
   ]
  },
  {
   "cell_type": "markdown",
   "metadata": {},
   "source": [
    "## 12. Classes"
   ]
  },
  {
   "cell_type": "markdown",
   "metadata": {},
   "source": [
    "**1201** `Understanding classes and objects`"
   ]
  },
  {
   "cell_type": "code",
   "execution_count": 79,
   "metadata": {},
   "outputs": [
    {
     "name": "stdout",
     "output_type": "stream",
     "text": [
      "<__main__.Duck object at 0x000001B7D92BB048>\n",
      "Quaaack!\n",
      "Walks like a duck.\n"
     ]
    }
   ],
   "source": [
    "class Duck:\n",
    "    def quack(self):\n",
    "        print('Quaaack!')\n",
    "\n",
    "    def walk(self):\n",
    "        print('Walks like a duck.')\n",
    "\n",
    "def main():\n",
    "    donald = Duck()\n",
    "    print(donald)\n",
    "    donald.quack()\n",
    "    donald.walk()\n",
    "\n",
    "if __name__ == \"__main__\": main()"
   ]
  },
  {
   "cell_type": "markdown",
   "metadata": {},
   "source": [
    "**1202** `Using methods`"
   ]
  },
  {
   "cell_type": "code",
   "execution_count": 85,
   "metadata": {},
   "outputs": [
    {
     "name": "stdout",
     "output_type": "stream",
     "text": [
      "constructor\n",
      "constructor\n",
      "Quaaack! 47\n",
      "Walks like a duck. 47\n",
      "Quaaack! 50\n",
      "Walks like a duck. 50\n"
     ]
    }
   ],
   "source": [
    "class Duck:\n",
    "    \n",
    "    def __init__(self, value):\n",
    "        self._v = value\n",
    "        print('constructor')\n",
    "    \n",
    "    def quack(self):\n",
    "        print('Quaaack!', self._v)\n",
    "\n",
    "    def walk(self):\n",
    "        print('Walks like a duck.', self._v)\n",
    "\n",
    "def main():\n",
    "    donald = Duck(47)\n",
    "    frank = Duck(50)\n",
    "    donald.quack()\n",
    "    donald.walk()\n",
    "    frank.quack()\n",
    "    frank.walk()\n",
    "\n",
    "if __name__ == \"__main__\": main()"
   ]
  },
  {
   "cell_type": "markdown",
   "metadata": {},
   "source": [
    "**1203** `Using object data`"
   ]
  },
  {
   "cell_type": "code",
   "execution_count": 99,
   "metadata": {},
   "outputs": [
    {
     "name": "stdout",
     "output_type": "stream",
     "text": [
      "red\n",
      "blue\n"
     ]
    }
   ],
   "source": [
    "# Storing data in dictionary objects\n",
    "class Duck:\n",
    "    \n",
    "    def __init__(self, **kwargs):\n",
    "        self.variables = kwargs\n",
    "    \n",
    "    def quack(self):\n",
    "        print('Quaaack!')\n",
    "\n",
    "    def walk(self):\n",
    "        print('Walks like a duck.')\n",
    "        \n",
    "    # def set_color(self, color):\n",
    "        # self._color = color\n",
    "        \n",
    "    # def get_color(self):\n",
    "        # return self._color\n",
    "\n",
    "    # def set_color(self, color):\n",
    "        # self.variables['color'] = color\n",
    "        \n",
    "    # def get_color(self):\n",
    "        # return self.variables.get('color', None)\n",
    "        \n",
    "    def set_variable(self, k, v):\n",
    "        self.variables[k] = v\n",
    "        \n",
    "    def get_variable(self, k):\n",
    "        return self.variables.get(k, None)\n",
    "\n",
    "def main():\n",
    "    donald = Duck(color = 'red')\n",
    "    print(donald.get_variable('color'))\n",
    "    donald.set_variable('color', 'blue')\n",
    "    print(donald.get_variable('color'))\n",
    "\n",
    "if __name__ == \"__main__\": main()"
   ]
  },
  {
   "cell_type": "markdown",
   "metadata": {},
   "source": [
    "**1204** `Understanding inheritance`"
   ]
  },
  {
   "cell_type": "code",
   "execution_count": 108,
   "metadata": {},
   "outputs": [
    {
     "name": "stdout",
     "output_type": "stream",
     "text": [
      "Quaaack!\n",
      "Hey Im walking here!\n",
      "I have nice clothes\n",
      "Hey Im walking here!\n"
     ]
    }
   ],
   "source": [
    "# Inheritance\n",
    "\n",
    "class Animal:\n",
    "    def talk(self): print('I have something to say!')\n",
    "    def walk(self): print('Hey I''m walking'' here!')\n",
    "    def clothes(self): print('I have nice clothes')\n",
    "\n",
    "class Duck(Animal):\n",
    "    \n",
    "    def quack(self):\n",
    "        print('Quaaack!')\n",
    "\n",
    "    def walk(self):\n",
    "        super().walk()\n",
    "        # print('Walks like a duck.')\n",
    "        \n",
    "class Dog(Animal):\n",
    "    def clothes(self):\n",
    "        print('I have brown and white fur')\n",
    "\n",
    "def main():\n",
    "    donald = Duck()\n",
    "    donald.quack()\n",
    "    donald.walk()\n",
    "    donald.clothes()\n",
    "    \n",
    "    fido = Dog()\n",
    "    fido.walk()\n",
    "\n",
    "if __name__ == \"__main__\": main()"
   ]
  },
  {
   "cell_type": "markdown",
   "metadata": {},
   "source": [
    "**1205** `Applying polymorphism to classes`"
   ]
  },
  {
   "cell_type": "code",
   "execution_count": 114,
   "metadata": {},
   "outputs": [
    {
     "name": "stdout",
     "output_type": "stream",
     "text": [
      "The duck cannot bark\n",
      "The duck has feathers\n",
      "The dog cannot quack\n",
      "Walks like a dog.\n",
      "Quaaack!\n",
      "Walks like a duck.\n",
      "The duck cannot bark\n",
      "The duck has feathers\n",
      "The dog cannot quack\n",
      "Walks like a dog.\n",
      "Woof!\n",
      "The dog has brown and white fur\n"
     ]
    }
   ],
   "source": [
    "# Polymorphism\n",
    "\n",
    "class Duck:\n",
    "    \n",
    "    def quack(self):\n",
    "        print('Quaaack!')\n",
    "\n",
    "    def walk(self):\n",
    "        print('Walks like a duck.')\n",
    "        \n",
    "    def bark(self):\n",
    "        print('The duck cannot bark')\n",
    "        \n",
    "    def fur(self):\n",
    "        print('The duck has feathers')\n",
    "        \n",
    "class Dog:\n",
    "    \n",
    "    def bark(self):\n",
    "        print('Woof!')\n",
    "        \n",
    "    def fur(self):\n",
    "        print('The dog has brown and white fur')\n",
    "\n",
    "    def walk(self):\n",
    "        print('Walks like a dog.')\n",
    "        \n",
    "    def quack(self):\n",
    "        print('The dog cannot quack')\n",
    "\n",
    "def main():\n",
    "    \n",
    "    donald = Duck()\n",
    "    fido = Dog()\n",
    "    \n",
    "    in_the_forest(donald)\n",
    "    in_the_pond(fido)\n",
    "    \n",
    "    for o in (donald, fido):\n",
    "        o.quack()\n",
    "        o.walk()\n",
    "        o.bark()\n",
    "        o.fur()\n",
    "    \n",
    "def in_the_forest(dog):\n",
    "    dog.bark()\n",
    "    dog.fur()\n",
    "    \n",
    "def in_the_pond(duck):\n",
    "    duck.quack()\n",
    "    duck.walk()\n",
    "    \n",
    "\n",
    "if __name__ == \"__main__\": main()"
   ]
  },
  {
   "cell_type": "markdown",
   "metadata": {},
   "source": [
    "**1206** `Using generators`"
   ]
  },
  {
   "cell_type": "code",
   "execution_count": 126,
   "metadata": {},
   "outputs": [
    {
     "name": "stdout",
     "output_type": "stream",
     "text": [
      "5 12 19 "
     ]
    }
   ],
   "source": [
    "class inclusive_range:\n",
    "    \n",
    "    def __init__(self, *args):\n",
    "        numargs = len(args)\n",
    "        if numargs < 1: raise TypeError('requires atleast one argument')\n",
    "        elif numargs == 1:\n",
    "            self.stop = args[0]\n",
    "            self.start = 0\n",
    "            self.step = 1\n",
    "        elif numargs == 2:\n",
    "            (self.start, self.stop) = args\n",
    "            self.step = 1\n",
    "        elif numargs == 3:\n",
    "            (self.start, self.stop, self.step) = args\n",
    "        else: raise TypeError('expected at most 3 arguments, got {}'.format(numargs))\n",
    "    \n",
    "    def __iter__(self):\n",
    "        i = self.start\n",
    "        while i <= self.stop:\n",
    "            yield i\n",
    "            i += self.step\n",
    "\n",
    "def main():\n",
    "    o = inclusive_range(5, 25, 7) # start, stop, step\n",
    "    for i in o: print(i, end = ' ')\n",
    "        \n",
    "    for i in inclusive_range(5, 25, 7): print(i, end = ' ')\n",
    "\n",
    "if __name__ == \"__main__\": main()"
   ]
  },
  {
   "cell_type": "markdown",
   "metadata": {},
   "source": [
    "**1207** `Using decorators`"
   ]
  },
  {
   "cell_type": "code",
   "execution_count": 130,
   "metadata": {},
   "outputs": [
    {
     "name": "stdout",
     "output_type": "stream",
     "text": [
      "blue\n"
     ]
    }
   ],
   "source": [
    "\n",
    "class Duck:\n",
    "    def __init__(self, **kwargs):\n",
    "        self.properties = kwargs\n",
    "\n",
    "    def quack(self):\n",
    "        print('Quaaack!')\n",
    "\n",
    "    def walk(self):\n",
    "        print('Walks like a duck.')\n",
    "\n",
    "    def get_properties(self):\n",
    "        return self.properties\n",
    "\n",
    "    def get_property(self, key):\n",
    "        return self.properties.get(key, None)\n",
    "    \n",
    "    @property\n",
    "    def color(self):\n",
    "        return self.properties.get('color', None)\n",
    "    \n",
    "    @color.setter\n",
    "    def color(self, c):\n",
    "        self.properties['color'] = c\n",
    "        \n",
    "    @color.deleter\n",
    "    def color(self):\n",
    "        del self.properties['color']\n",
    "\n",
    "def main():\n",
    "    # donald = Duck(color = 'blue')\n",
    "    donald = Duck()\n",
    "    donald.color = 'blue'\n",
    "    # print(donald.get_property('color'))\n",
    "    print(donald.color)\n",
    "    \n",
    "\n",
    "if __name__ == \"__main__\": main()\n",
    "    "
   ]
  },
  {
   "cell_type": "markdown",
   "metadata": {},
   "source": [
    "## 13. Strings"
   ]
  },
  {
   "cell_type": "markdown",
   "metadata": {},
   "source": [
    "**1301** `Understanding strings as objects`"
   ]
  },
  {
   "cell_type": "code",
   "execution_count": 5,
   "metadata": {},
   "outputs": [
    {
     "name": "stdout",
     "output_type": "stream",
     "text": [
      "THIS IS A STRING\n",
      "This is a string 42\n",
      "This is a string 42\n"
     ]
    }
   ],
   "source": [
    "# Strings are first class object in Python\n",
    "\n",
    "s = 'This is a string'\n",
    "print(s.upper())\n",
    "print('This is a string {}'.format(42))\n",
    "print('This is a string %d' % 42) # Obsolete\n",
    "    "
   ]
  },
  {
   "cell_type": "markdown",
   "metadata": {},
   "source": [
    "**1302** `Working with common string methods`"
   ]
  },
  {
   "cell_type": "code",
   "execution_count": 16,
   "metadata": {},
   "outputs": [
    {
     "name": "stdout",
     "output_type": "stream",
     "text": [
      "This is a string\n",
      "This Is A String\n",
      "THIS IS A STRING\n",
      "this is a string\n",
      "this is a string\n",
      "tHIS IS A STRING\n",
      "2\n",
      "that is a string\n",
      "this is a string\n",
      "This is a string\n",
      "        This is a string\n",
      "This is a fun new string\n",
      "False\n",
      "False\n",
      "False\n",
      "True\n"
     ]
    }
   ],
   "source": [
    "def main():\n",
    "    s = 'this is a string'\n",
    "    print(s.capitalize())\n",
    "    print(s.title())\n",
    "    print(s.upper())\n",
    "    print('This is a string'.lower())\n",
    "    print(s.lower())\n",
    "    print('This is a string'.swapcase())\n",
    "    print(s.find('is'))\n",
    "    print(s.replace('this', 'that'))\n",
    "    print(s.strip())\n",
    "    print('        This is a string        '.strip())\n",
    "    print('        This is a string        '.rstrip())\n",
    "    print('This is a fun new string\\n\\n\\n'.rstrip('\\n'))\n",
    "    print(s.isalnum()) \n",
    "    print(s.isalpha())\n",
    "    print(s.isdigit())\n",
    "    print(s.isprintable())\n",
    "\n",
    "if __name__ == \"__main__\": main()"
   ]
  },
  {
   "cell_type": "markdown",
   "metadata": {},
   "source": [
    "**1303** `Formatting strings with str.format`"
   ]
  },
  {
   "cell_type": "code",
   "execution_count": 30,
   "metadata": {},
   "outputs": [
    {
     "name": "stdout",
     "output_type": "stream",
     "text": [
      "this is 5, that is 42\n",
      "this is {}, that is {}\n",
      "this is 5, that is 42\n",
      "2269990632376\n",
      "2269991163200\n",
      "this is 5, that is 42\n",
      "this is 42, that is 5\n",
      "this is 42, that is 5\n",
      "this is 42, that is 5 this too is 42\n",
      "this is 5 and that is 42\n",
      "this is 5 and that is 42\n"
     ]
    }
   ],
   "source": [
    "# Format is new to Python 3.1\n",
    "a, b = 5, 42\n",
    "print('this is {}, that is {}'.format(a, b))\n",
    "s = 'this is {}, that is {}'\n",
    "print(s)\n",
    "print(s.format(a, b))\n",
    "print(id(s))\n",
    "new = s.format(a, b)\n",
    "print(id(new)) # entirely different strings\n",
    "print('this is %d, that is %d' % ( a, b )) #Python 2\n",
    "print('this is {}, that is {}'.format(b, a)) # opposite order\n",
    "print('this is {1}, that is {0}'.format(a, b))\n",
    "print('this is {1}, that is {0} this too is {1}'.format(a, b))\n",
    "print('this is {bob} and that is {fred}'.format( bob = a, fred = b ))\n",
    "d = dict( bob = a, fred = b )\n",
    "print('this is {bob} and that is {fred}'.format( **d ))"
   ]
  },
  {
   "cell_type": "markdown",
   "metadata": {},
   "source": [
    "**1304** `Splitting and joining strings`"
   ]
  },
  {
   "cell_type": "code",
   "execution_count": 38,
   "metadata": {},
   "outputs": [
    {
     "name": "stdout",
     "output_type": "stream",
     "text": [
      "['This', 'is', 'a', 'string', 'of', 'words']\n",
      "['This', 'is', 'a', 'string', 'of', 'words']\n",
      "['Th', 's     ', 's      a     str', 'ng   of      words']\n",
      "['This', 'is', 'a', 'string', 'of', 'words']\n",
      "This\n",
      "is\n",
      "a\n",
      "string\n",
      "of\n",
      "words\n",
      "This:is:a:string:of:words\n",
      "This, is, a, string, of, words\n"
     ]
    }
   ],
   "source": [
    "s = 'This is a string of words'\n",
    "print(s.split())\n",
    "s = 'This     is      a     string   of      words'\n",
    "print(s.split()) # Folds whitespace first\n",
    "print(s.split('i')) # Does not fold whitespace\n",
    "words = s.split()\n",
    "print(words)\n",
    "for w in words:\n",
    "    print(w)\n",
    "newString = ':'.join(words)\n",
    "print(newString)\n",
    "newString = ', '.join(words)\n",
    "print(newString)"
   ]
  },
  {
   "cell_type": "markdown",
   "metadata": {},
   "source": [
    "**1305** `Finding and using standard string methods`\n",
    "- Review Python string library documentation."
   ]
  },
  {
   "cell_type": "code",
   "execution_count": 41,
   "metadata": {},
   "outputs": [
    {
     "name": "stdout",
     "output_type": "stream",
     "text": [
      "                                this is a string                                \n",
      "80\n"
     ]
    }
   ],
   "source": [
    "s = 'this is a string'\n",
    "new = s.center(80)\n",
    "print(new)\n",
    "print(len(new))"
   ]
  },
  {
   "cell_type": "markdown",
   "metadata": {},
   "source": [
    "## 14. Containers"
   ]
  },
  {
   "cell_type": "markdown",
   "metadata": {},
   "source": [
    "**1401** `Creating sequences with tuples and lists`"
   ]
  },
  {
   "cell_type": "code",
   "execution_count": 58,
   "metadata": {},
   "outputs": [
    {
     "name": "stdout",
     "output_type": "stream",
     "text": [
      "(1, 2, 3, 4, 5)\n",
      "<class 'tuple'>\n",
      "5\n",
      "5\n",
      "5\n",
      "1\n",
      "5\n",
      "(1,)\n",
      "<class 'tuple'>\n",
      "5\n",
      "5\n",
      "1\n",
      "5\n",
      "(0, 1, 2, 3, 4, 5, 6, 7, 8, 9, 10, 11, 12, 13, 14, 15, 16, 17, 18, 19, 20, 21, 22, 23, 24)\n",
      "<class 'tuple'>\n",
      "[0, 1, 2, 3, 4, 5, 6, 7, 8, 9, 10, 11, 12, 13, 14, 15, 16, 17, 18, 19, 20, 21, 22, 23, 24]\n",
      "<class 'list'>\n",
      "[0, 1, 2, 3, 4, 5, 6, 7, 8, 9, 50, 11, 12, 13, 14, 15, 16, 17, 18, 19, 20, 21, 22, 23, 24]\n"
     ]
    }
   ],
   "source": [
    "# Tuples and Lists are the basic array types in Python\n",
    "# Tuples are immutable and Lists are mutable\n",
    "# Tuples are created with the comma operator.\n",
    "t = 1,2,3,4,5\n",
    "print(t)\n",
    "print(type(t))\n",
    "print(t[4])\n",
    "print(t[-1]) # End of list\n",
    "print(len(t))\n",
    "print(min(t)) # Get smallest element\n",
    "print(max(t)) # Get largest element\n",
    "s = (1,) # Tuple with one element\n",
    "print(s)\n",
    "print(type(s))\n",
    "\n",
    "# Lists are created with square brackets\n",
    "\n",
    "x = [1, 2, 3, 4, 5]\n",
    "print(x[-1])\n",
    "print(len(x))\n",
    "print(min(x)) # Get smallest element\n",
    "print(max(x)) # Get largest element\n",
    "\n",
    "t = tuple(range(25))\n",
    "print(t)\n",
    "print(type(t))\n",
    "# t[10] = 42 # object does not support item assignment\n",
    "\n",
    "x = list(range(25))\n",
    "print(x)\n",
    "print(type(x))\n",
    "x[10] = 50\n",
    "print(x)"
   ]
  },
  {
   "cell_type": "markdown",
   "metadata": {},
   "source": [
    "**1402** `Operating on sequences with built-in methods`"
   ]
  },
  {
   "cell_type": "code",
   "execution_count": 81,
   "metadata": {},
   "outputs": [
    {
     "name": "stdout",
     "output_type": "stream",
     "text": [
      "(0, 1, 2, 3, 4, 5, 6, 7, 8, 9, 10, 11, 12, 13, 14, 15, 16, 17, 18, 19, 20, 21, 22, 23, 24)\n",
      "True\n",
      "False\n",
      "True\n",
      "10\n",
      "25\n",
      "0\n",
      "1\n",
      "2\n",
      "3\n",
      "4\n",
      "5\n",
      "6\n",
      "7\n",
      "8\n",
      "9\n",
      "10\n",
      "11\n",
      "12\n",
      "13\n",
      "14\n",
      "15\n",
      "16\n",
      "17\n",
      "18\n",
      "19\n",
      "20\n",
      "21\n",
      "22\n",
      "23\n",
      "24\n",
      "[0, 1, 2, 3, 4, 5, 6, 7, 8, 9, 10, 11, 12, 13, 14, 15, 16, 17, 18, 19]\n",
      "True\n",
      "False\n",
      "0\n",
      "1\n",
      "2\n",
      "3\n",
      "4\n",
      "5\n",
      "6\n",
      "7\n",
      "8\n",
      "9\n",
      "10\n",
      "11\n",
      "12\n",
      "13\n",
      "14\n",
      "15\n",
      "16\n",
      "17\n",
      "18\n",
      "19\n",
      "1\n",
      "5\n",
      "[0, 1, 2, 3, 4, 5, 6, 7, 8, 9, 10, 11, 12, 13, 14, 15, 16, 17, 18, 19, 100]\n",
      "21\n",
      "[0, 1, 2, 3, 4, 5, 6, 7, 8, 9, 10, 11, 12, 13, 14, 15, 16, 17, 18, 19, 100, 0, 1, 2, 3, 4, 5, 6, 7, 8, 9, 10, 11, 12, 13, 14, 15, 16, 17, 18, 19]\n",
      "[25, 0, 1, 2, 3, 4, 5, 6, 7, 8, 9, 10, 11, 12, 13, 14, 15, 16, 17, 18, 19, 100, 0, 1, 2, 3, 4, 5, 6, 7, 8, 9, 10, 11, 12, 13, 14, 15, 16, 17, 18, 19]\n",
      "[25, 0, 1, 2, 3, 4, 5, 6, 7, 8, 9, 10, 100, 11, 12, 13, 14, 15, 16, 17, 18, 19, 100, 0, 1, 2, 3, 4, 5, 6, 7, 8, 9, 10, 11, 12, 13, 14, 15, 16, 17, 18, 19]\n",
      "[25, 0, 1, 2, 3, 4, 5, 6, 7, 8, 9, 10, 100, 11, 13, 14, 15, 16, 17, 18, 19, 100, 0, 1, 2, 3, 4, 5, 6, 7, 8, 9, 10, 11, 12, 13, 14, 15, 16, 17, 18, 19]\n",
      "[25, 0, 1, 2, 3, 4, 5, 6, 7, 8, 9, 10, 11, 13, 14, 15, 16, 17, 18, 19, 100, 0, 1, 2, 3, 4, 5, 6, 7, 8, 9, 10, 11, 12, 13, 14, 15, 16, 17, 18, 19]\n",
      "19\n",
      "25\n"
     ]
    }
   ],
   "source": [
    "t = tuple(range(25))\n",
    "print(t)\n",
    "print(10 in t)\n",
    "print(50 in t)\n",
    "print(50 not in t)\n",
    "print(t[10])\n",
    "print(len(t))\n",
    "for i in t: print(i)\n",
    "x = list(range(20))\n",
    "print(x)\n",
    "print(10 in x)\n",
    "print(20 in x)\n",
    "for i in x: print(i)\n",
    "print(t.count(5)) # count how many fives there are\n",
    "print(t.index(5))\n",
    "# t.append(100) object has no attribute append\n",
    "x.append(100)\n",
    "print(x)\n",
    "print(len(x))\n",
    "x.extend(range(20))\n",
    "print(x)\n",
    "x.insert(0, 25) # insert at the beginning\n",
    "print(x)\n",
    "x.insert(12, 100) # insert at the beginning\n",
    "print(x)\n",
    "x.remove(12) # remove value of 12\n",
    "print(x)\n",
    "del x[12] # delete at index\n",
    "print(x)\n",
    "print(x.pop()) # pop from end\n",
    "print(x.pop(0)) # pop from beginning"
   ]
  },
  {
   "cell_type": "markdown",
   "metadata": {},
   "source": [
    "**1403** `Organizing data with dictionaries`"
   ]
  },
  {
   "cell_type": "code",
   "execution_count": 95,
   "metadata": {},
   "outputs": [
    {
     "name": "stdout",
     "output_type": "stream",
     "text": [
      "{'one': 1, 'two': 2, 'three': 3}\n",
      "{'one': 1, 'two': 2, 'three': 3}\n",
      "<class 'dict'>\n",
      "{'one': 1, 'two': 2, 'three': 3, 'four': 4, 'five': 5, 'six': 6}\n",
      "True\n",
      "False\n",
      "one\n",
      "two\n",
      "three\n",
      "four\n",
      "five\n",
      "six\n",
      "one 1\n",
      "two 2\n",
      "three 3\n",
      "four 4\n",
      "five 5\n",
      "six 6\n",
      "None\n",
      "3\n",
      "4\n",
      "not found\n",
      "{'five': 5, 'six': 6}\n",
      "{'six': 6}\n"
     ]
    }
   ],
   "source": [
    "d = { 'one': 1, 'two': 2, 'three': 3 }\n",
    "print(d)\n",
    "\n",
    "# create a dictionary with it's constructor\n",
    "# allows using named parameters feature\n",
    "\n",
    "d = dict( one = 1, two = 2, three = 3)\n",
    "print(d)\n",
    "print(type(d))\n",
    "\n",
    "# initialise one dictionary from another\n",
    "\n",
    "x = dict( four = 4, five = 5, six = 6 )\n",
    "d = dict( one = 1, two = 2, three = 3, **x)\n",
    "print(d)\n",
    "\n",
    "# test if a value is on a dictionary\n",
    "\n",
    "print('four' in x)\n",
    "print('three' in x)\n",
    "\n",
    "# iterate dictionry\n",
    "\n",
    "for k in d: print(k)\n",
    "for k, v in d.items(): print(k, v)\n",
    "    \n",
    "# get value from dictionary\n",
    "\n",
    "print(x.get('three')) # no exception return None\n",
    "print(d.get('three'))\n",
    "print(x.get('four'))\n",
    "print(x.get('three', 'not found'))\n",
    "\n",
    "# delete item from dictionary\n",
    "\n",
    "del x['four']\n",
    "print(x)\n",
    "x.pop('five') # returns value and deletes at the same time\n",
    "print(x)\n"
   ]
  },
  {
   "cell_type": "markdown",
   "metadata": {},
   "source": [
    "**1404** `Operating on character data with bytes and byte arrays`"
   ]
  },
  {
   "cell_type": "code",
   "execution_count": 98,
   "metadata": {},
   "outputs": [
    {
     "name": "stdout",
     "output_type": "stream",
     "text": [
      "<_io.TextIOWrapper name='utf8.txt' mode='r' encoding='utf_8'>\n",
      "This is a UTF-8 file. \n",
      "It has some interesting characters in it. \n",
      "&#1641;(&#0865;&#3663;&#0815;&#0865;&#3663;)&#1782;\n",
      "\n",
      "Done.\n"
     ]
    }
   ],
   "source": [
    "def main():\n",
    "    fin = open('utf8.txt', 'r', encoding = 'utf_8')\n",
    "    print(fin)\n",
    "    fout = open('utf8.html', 'w')\n",
    "    outbytes = bytearray() # immutable list of bytes\n",
    "    for line in fin:\n",
    "        for c in line:\n",
    "            if ord(c) > 127:\n",
    "                outbytes += bytes('&#{:04d};'.format(ord(c)), encoding = 'utf_8')\n",
    "            else: outbytes.append(ord(c))\n",
    "    outstr = str(outbytes, encoding = 'utf_8')\n",
    "    print(outstr, file = fout)\n",
    "    print(outstr)\n",
    "    print('Done.')\n",
    "\n",
    "if __name__ == \"__main__\": main()"
   ]
  },
  {
   "cell_type": "markdown",
   "metadata": {},
   "source": [
    "## 15. File IO"
   ]
  },
  {
   "cell_type": "markdown",
   "metadata": {},
   "source": [
    "**1501** `Opening files`"
   ]
  },
  {
   "cell_type": "code",
   "execution_count": 101,
   "metadata": {},
   "outputs": [
    {
     "name": "stdout",
     "output_type": "stream",
     "text": [
      "01 This is a line of text\n",
      "02 This is a line of text\n",
      "03 This is a line of text\n",
      "04 This is a line of text\n",
      "05 This is a line of text\n"
     ]
    }
   ],
   "source": [
    "def main():\n",
    "    # defaults to read mode read/write/append\n",
    "    # r+ == read and write\n",
    "    # rt = text file mode\n",
    "    # rb = binary mode\n",
    "    f = open('lines.txt', 'r')\n",
    "    for line in f:\n",
    "        print(line, end = '')\n",
    "    for line in f.readlines():\n",
    "        print(line, end = '')\n",
    "\n",
    "if __name__ == \"__main__\": main()"
   ]
  },
  {
   "cell_type": "markdown",
   "metadata": {},
   "source": [
    "**1502** `Reading and writing text files`"
   ]
  },
  {
   "cell_type": "code",
   "execution_count": 114,
   "metadata": {},
   "outputs": [
    {
     "name": "stdout",
     "output_type": "stream",
     "text": [
      "Done\n",
      ".......Done\n",
      "Wall time: 9.53 ms\n"
     ]
    }
   ],
   "source": [
    "%%time\n",
    "def main():\n",
    "    \n",
    "    infile = open('lines.txt', 'r')\n",
    "    outfile = open('new.txt', 'w')\n",
    "    for line in infile:\n",
    "        print(line, file = outfile, end = '')\n",
    "    print('Done')\n",
    "    \n",
    "    buffersize = 50000\n",
    "    infile = open('bigfile.txt', 'r')\n",
    "    outfile = open('newbigfile.txt', 'w')\n",
    "    buffer = infile.read(buffersize)\n",
    "    while len(buffer):\n",
    "        outfile.write(buffer)\n",
    "        print('.', end='')\n",
    "        buffer = infile.read(buffersize)\n",
    "    print('Done')\n",
    "\n",
    "if __name__ == \"__main__\": main()"
   ]
  },
  {
   "cell_type": "markdown",
   "metadata": {},
   "source": [
    "**1503** `Reading and writing binary files`"
   ]
  },
  {
   "cell_type": "code",
   "execution_count": 121,
   "metadata": {},
   "outputs": [
    {
     "name": "stdout",
     "output_type": "stream",
     "text": [
      "...\n",
      "Done.\n",
      "Wall time: 5.01 ms\n"
     ]
    }
   ],
   "source": [
    "%%time\n",
    "def main():\n",
    "    buffersize = 50000\n",
    "    infile = open('olives.jpg', 'rb')\n",
    "    outfile = open('newolives.jpg', 'wb')\n",
    "    buffer = infile.read(buffersize)\n",
    "    while len(buffer):\n",
    "        outfile.write(buffer)\n",
    "        print('.', end='')\n",
    "        buffer = infile.read(buffersize)\n",
    "    print()\n",
    "    print('Done.')\n",
    "    \n",
    "if __name__ == \"__main__\": main()"
   ]
  },
  {
   "cell_type": "markdown",
   "metadata": {},
   "source": [
    "## 16. Databases"
   ]
  },
  {
   "cell_type": "markdown",
   "metadata": {},
   "source": [
    "**1601** `Creating a database with SQLite 3`"
   ]
  },
  {
   "cell_type": "code",
   "execution_count": 10,
   "metadata": {},
   "outputs": [
    {
     "name": "stdout",
     "output_type": "stream",
     "text": [
      "one 1\n",
      "two 2\n",
      "three 3\n",
      "four 4\n",
      "five 5\n"
     ]
    }
   ],
   "source": [
    "# dictionary mode returns dictionary objects\n",
    "\n",
    "import sqlite3\n",
    "\n",
    "def main():\n",
    "    db = sqlite3.connect('test.db')\n",
    "    db.row_factory = sqlite3.Row \n",
    "    db.execute('drop table if exists test')\n",
    "    db.execute('create table test (t1 text, i1 int)')\n",
    "    db.execute('insert into test (t1, i1) values (?, ?)', ('one', 1))\n",
    "    db.execute('insert into test (t1, i1) values (?, ?)', ('two', 2))\n",
    "    db.execute('insert into test (t1, i1) values (?, ?)', ('three', 3))\n",
    "    db.execute('insert into test (t1, i1) values (?, ?)', ('four', 4))\n",
    "    db.execute('insert into test (t1, i1) values (?, ?)', ('five', 5))\n",
    "    db.commit()\n",
    "    cursor = db.execute('select * from test order by i1')\n",
    "    for row in cursor:\n",
    "        # print(dict(row))\n",
    "        # print(row['t1'])\n",
    "        print(row['t1'], row['i1'])\n",
    "\n",
    "if __name__ == \"__main__\": main()"
   ]
  },
  {
   "cell_type": "markdown",
   "metadata": {},
   "source": [
    "**1602** `Creating retrieving updating and deleting records`"
   ]
  },
  {
   "cell_type": "code",
   "execution_count": 11,
   "metadata": {},
   "outputs": [
    {
     "name": "stdout",
     "output_type": "stream",
     "text": [
      "Create table test\n",
      "Create rows\n",
      "  four: 4\n",
      "  one: 1\n",
      "  three: 3\n",
      "  two: 2\n",
      "Retrieve rows\n",
      "{'t1': 'one', 'i1': 1} {'t1': 'two', 'i1': 2}\n",
      "Update rows\n",
      "  four: 4\n",
      "  one: 101\n",
      "  three: 103\n",
      "  two: 2\n",
      "Delete rows\n",
      "  four: 4\n",
      "  two: 2\n"
     ]
    }
   ],
   "source": [
    "import sqlite3\n",
    "\n",
    "def insert(db, row):\n",
    "    db.execute('insert into test (t1, i1) values (?, ?)', (row['t1'], row['i1']))\n",
    "    db.commit()\n",
    "\n",
    "def retrieve(db, t1):\n",
    "    cursor = db.execute('select * from test where t1 = ?', (t1,))\n",
    "    return cursor.fetchone()\n",
    "\n",
    "def update(db, row):\n",
    "    db.execute('update test set i1 = ? where t1 = ?', (row['i1'], row['t1']))\n",
    "    db.commit()\n",
    "\n",
    "def delete(db, t1):\n",
    "    db.execute('delete from test where t1 = ?', (t1,))\n",
    "    db.commit()\n",
    "\n",
    "def disp_rows(db):\n",
    "    cursor = db.execute('select * from test order by t1')\n",
    "    for row in cursor:\n",
    "        print('  {}: {}'.format(row['t1'], row['i1']))\n",
    "\n",
    "def main():\n",
    "    db = sqlite3.connect('test.db')\n",
    "    db.row_factory = sqlite3.Row\n",
    "    print('Create table test')\n",
    "    db.execute('drop table if exists test')\n",
    "    db.execute('create table test ( t1 text, i1 int )')\n",
    "\n",
    "    print('Create rows')\n",
    "    insert(db, dict(t1 = 'one', i1 = 1))\n",
    "    insert(db, dict(t1 = 'two', i1 = 2))\n",
    "    insert(db, dict(t1 = 'three', i1 = 3))\n",
    "    insert(db, dict(t1 = 'four', i1 = 4))\n",
    "    disp_rows(db)\n",
    "\n",
    "    print('Retrieve rows')\n",
    "    print(dict(retrieve(db, 'one')), dict(retrieve(db, 'two')))\n",
    "\n",
    "    print('Update rows')\n",
    "    update(db, dict(t1 = 'one', i1 = 101))\n",
    "    update(db, dict(t1 = 'three', i1 = 103))\n",
    "    disp_rows(db)\n",
    "\n",
    "    print('Delete rows')\n",
    "    delete(db, 'one')\n",
    "    delete(db, 'three')\n",
    "    disp_rows(db)\n",
    "\n",
    "if __name__ == \"__main__\": main()\n"
   ]
  },
  {
   "cell_type": "markdown",
   "metadata": {},
   "source": [
    "**1603** `Creating a database object`"
   ]
  },
  {
   "cell_type": "code",
   "execution_count": 12,
   "metadata": {},
   "outputs": [
    {
     "name": "stdout",
     "output_type": "stream",
     "text": [
      "Create table test\n",
      "Create rows\n",
      "{'t1': 'four', 'i1': 4}\n",
      "{'t1': 'one', 'i1': 1}\n",
      "{'t1': 'three', 'i1': 3}\n",
      "{'t1': 'two', 'i1': 2}\n",
      "Retrieve rows\n",
      "{'t1': 'one', 'i1': 1} {'t1': 'two', 'i1': 2}\n",
      "Update rows\n",
      "{'t1': 'four', 'i1': 4}\n",
      "{'t1': 'one', 'i1': 101}\n",
      "{'t1': 'three', 'i1': 103}\n",
      "{'t1': 'two', 'i1': 2}\n",
      "Delete rows\n",
      "{'t1': 'four', 'i1': 4}\n",
      "{'t1': 'two', 'i1': 2}\n"
     ]
    }
   ],
   "source": [
    "import sqlite3\n",
    "\n",
    "class database:\n",
    "    def __init__(self, **kwargs):\n",
    "        self.filename = kwargs.get('filename')\n",
    "        self.table = kwargs.get('table', 'test')\n",
    "    \n",
    "    def sql_do(self, sql, *params):\n",
    "        self._db.execute(sql, params)\n",
    "        self._db.commit()\n",
    "    \n",
    "    def insert(self, row):\n",
    "        self._db.execute('insert into {} (t1, i1) values (?, ?)'.format(self._table), (row['t1'], row['i1']))\n",
    "        self._db.commit()\n",
    "    \n",
    "    def retrieve(self, key):\n",
    "        cursor = self._db.execute('select * from {} where t1 = ?'.format(self._table), (key,))\n",
    "        return dict(cursor.fetchone())\n",
    "    \n",
    "    def update(self, row):\n",
    "        self._db.execute(\n",
    "            'update {} set i1 = ? where t1 = ?'.format(self._table),\n",
    "            (row['i1'], row['t1']))\n",
    "        self._db.commit()\n",
    "    \n",
    "    def delete(self, key):\n",
    "        self._db.execute('delete from {} where t1 = ?'.format(self._table), (key,))\n",
    "        self._db.commit()\n",
    "\n",
    "    def disp_rows(self):\n",
    "        cursor = self._db.execute('select * from {} order by t1'.format(self._table))\n",
    "        for row in cursor:\n",
    "            print('  {}: {}'.format(row['t1'], row['i1']))\n",
    "\n",
    "    def __iter__(self):\n",
    "        cursor = self._db.execute('select * from {} order by t1'.format(self._table))\n",
    "        for row in cursor:\n",
    "            yield dict(row)\n",
    "\n",
    "    @property\n",
    "    def filename(self): return self._filename\n",
    "\n",
    "    @filename.setter\n",
    "    def filename(self, fn):\n",
    "        self._filename = fn\n",
    "        self._db = sqlite3.connect(fn)\n",
    "        self._db.row_factory = sqlite3.Row\n",
    "\n",
    "    @filename.deleter\n",
    "    def filename(self): self.close()\n",
    "\n",
    "    @property\n",
    "    def table(self): return self._table\n",
    "    @table.setter\n",
    "    def table(self, t): self._table = t\n",
    "    @table.deleter\n",
    "    def table(self): self._table = 'test'\n",
    "\n",
    "    def close(self):\n",
    "            self._db.close()\n",
    "            del self._filename\n",
    "\n",
    "def main():\n",
    "    db = database(filename = 'test.db', table = 'test')\n",
    "\n",
    "    print('Create table test')\n",
    "    db.sql_do('drop table if exists test')\n",
    "    db.sql_do('create table test ( t1 text, i1 int )')\n",
    "\n",
    "    print('Create rows')\n",
    "    db.insert(dict(t1 = 'one', i1 = 1))\n",
    "    db.insert(dict(t1 = 'two', i1 = 2))\n",
    "    db.insert(dict(t1 = 'three', i1 = 3))\n",
    "    db.insert(dict(t1 = 'four', i1 = 4))\n",
    "    for row in db: print(row)\n",
    "\n",
    "    print('Retrieve rows')\n",
    "    print(db.retrieve('one'), db.retrieve('two'))\n",
    "\n",
    "    print('Update rows')\n",
    "    db.update(dict(t1 = 'one', i1 = 101))\n",
    "    db.update(dict(t1 = 'three', i1 = 103))\n",
    "    for row in db: print(row)\n",
    "\n",
    "    print('Delete rows')\n",
    "    db.delete('one')\n",
    "    db.delete('three')\n",
    "    for row in db: print(row)\n",
    "\n",
    "if __name__ == \"__main__\": main()"
   ]
  },
  {
   "cell_type": "markdown",
   "metadata": {},
   "source": [
    "## 17. Modules"
   ]
  },
  {
   "cell_type": "markdown",
   "metadata": {},
   "source": [
    "**1701** `Using standard library modules`"
   ]
  },
  {
   "cell_type": "code",
   "execution_count": 10,
   "metadata": {},
   "outputs": [
    {
     "name": "stdout",
     "output_type": "stream",
     "text": [
      "Python version 3.6.3\n",
      "win32\n",
      "nt\n",
      "C:\\Python36\\Scripts\\;C:\\Python36\\;C:\\WINDOWS\\system32;C:\\WINDOWS;C:\\WINDOWS\\System32\\Wbem;C:\\WINDOWS\\System32\\WindowsPowerShell\\v1.0\\;C:\\SysInternals;C:\\Program Files\\MySQL\\MySQL Server 5.7\\bin;C:\\Program Files\\MySQL\\MySQL Utilities 1.6\\;C:\\Php;C:\\Php\\includes;C:\\Composer;C:\\Program Files (x86)\\QuickTime\\QTSystem\\;C:\\Program Files (x86)\\Extensis\\Suitcase Fusion 6\\;C:\\Program Files (x86)\\Yarn\\bin;C:\\Program Files\\Common Files\\Autodesk Shared\\;C:\\Program Files (x86)\\Autodesk\\Backburner\\;C:\\Program Files\\Git\\cmd;C:\\Program Files\\dotnet\\;C:\\Program Files\\Microsoft SQL Server\\130\\Tools\\Binn\\;C:\\Go\\bin;C:\\Projects\\Go\\bin;C:\\Program Files\\nodejs\\;C:\\Ruby23-x64\\bin;C:\\Users\\tomsh\\AppData\\Local\\Microsoft\\WindowsApps;C:\\Program Files (x86)\\Nmap;C:\\Users\\tomsh\\AppData\\Local\\atom\\bin;C:\\Users\\tomsh\\AppData\\Local\\Yarn\\.bin;C:\\Users\\tomsh\\AppData\\Local\\Microsoft\\WindowsApps;C:\\Program Files\\Microsoft VS Code\\bin;C:\\Users\\tomsh\\AppData\\Roaming\\npm;C:\\Users\\tomsh\\AppData\\Local\\GitHubDesktop\\bin\n",
      "C:\\Projects\\Notebooks\\work\\python-tutorial\n",
      "b'\\x8c\\x052\\xc4[d\\xda\\xba?\\x08Hp\\xc2\\xeb\\x9cZ\\x16\\x1f\\xd4\"\\x9a\\x02\\x07n\\x03'\n",
      "23\n",
      "[0, 1, 2, 3, 4, 5, 6, 7, 8, 9, 10, 11, 12, 13, 14, 15, 16, 17, 18, 19, 20, 21, 22, 23, 24]\n",
      "[20, 4, 3, 7, 11, 24, 16, 23, 10, 6, 15, 5, 12, 0, 13, 19, 14, 17, 2, 22, 21, 1, 9, 8, 18]\n",
      "2017-11-28 22:55:49.712937\n",
      "2017 11 28 22 55 49 712937\n"
     ]
    }
   ],
   "source": [
    "# Reviewing Python Standard Library\n",
    "# https://docs.python.org/3/library/index.html\n",
    "#\n",
    "import sys\n",
    "\n",
    "def main():\n",
    "    print('Python version {}.{}.{}'.format(*sys.version_info))\n",
    "    print(sys.platform)\n",
    "    \n",
    "    import os\n",
    "    \n",
    "    print(os.name)\n",
    "    print(os.getenv('PATH'))\n",
    "    print(os.getcwd())\n",
    "    print(os.urandom(25))\n",
    "    \n",
    "    # import urllib.request\n",
    "    \n",
    "    # page = urllib.request.urlopen('http://bw.org/')\n",
    "    # for line in page: print(str(line, encoding = 'utf_8'), end='')\n",
    "    \n",
    "    import random\n",
    "    \n",
    "    print(random.randint(1, 1000))\n",
    "    \n",
    "    x = list(range(25))\n",
    "    print(x)\n",
    "    random.shuffle(x)\n",
    "    print(x)\n",
    "    \n",
    "    import datetime\n",
    "    now = datetime.datetime.now()\n",
    "    print(now)\n",
    "    print(now.year, now.month, now.day, now.hour, now.minute, now.second, now.microsecond)\n",
    "    \n",
    "if __name__ == \"__main__\": main()"
   ]
  },
  {
   "cell_type": "markdown",
   "metadata": {},
   "source": [
    "**1702** `Finding third-party modules`"
   ]
  },
  {
   "cell_type": "code",
   "execution_count": 12,
   "metadata": {},
   "outputs": [
    {
     "name": "stdout",
     "output_type": "stream",
     "text": [
      "55 01010101 85\n"
     ]
    }
   ],
   "source": [
    "# PyPI - The Python Package Index\n",
    "# https://pypi.python.org/pypi\n",
    "\n",
    "# pip install bitstring\n",
    "# python setup.py install\n",
    "\n",
    "import bitstring\n",
    "\n",
    "def main():\n",
    "    a = bitstring.BitString(bin = '01010101')\n",
    "    print(a.hex, a.bin, a.uint)\n",
    "    \n",
    "if __name__ == \"__main__\": main()"
   ]
  },
  {
   "cell_type": "markdown",
   "metadata": {},
   "source": [
    "**1703** `Creating a module`"
   ]
  },
  {
   "cell_type": "code",
   "execution_count": 36,
   "metadata": {},
   "outputs": [
    {
     "name": "stdout",
     "output_type": "stream",
     "text": [
      "\n",
      "numbers test:\n",
      "0 oh\n",
      "1 one\n",
      "2 two\n",
      "3 three\n",
      "4 four\n",
      "5 five\n",
      "6 six\n",
      "7 seven\n",
      "8 eight\n",
      "9 nine\n",
      "10 ten\n",
      "12 twelve\n",
      "15 fifteen\n",
      "19 nineteen\n",
      "20 twenty\n",
      "30 thirty\n",
      "50 fifty\n",
      "51 fifty-one\n",
      "52 fifty-two\n",
      "55 fifty-five\n",
      "59 fifty-nine\n",
      "99 ninety-nine\n",
      "100 one hundred\n",
      "101 one hundred one\n",
      "112 one hundred twelve\n",
      "900 nine hundred\n",
      "999 nine hundred ninety-nine\n",
      "1000 OOR\n",
      "\n",
      "time test:\n",
      "00:00 midnight\n",
      "00:01 one past midnight\n",
      "11:00 eleven o'clock\n",
      "12:00 noon\n",
      "13:00 one o'clock\n",
      "12:29 twenty-nine past noon\n",
      "12:30 half past noon\n",
      "12:31 twenty-nine til one\n",
      "12:15 quarter past noon\n",
      "12:30 half past noon\n",
      "12:45 quarter til one\n",
      "11:59 one til noon\n",
      "23:15 quarter past eleven\n",
      "23:59 one til midnight\n",
      "12:59 one til one\n",
      "13:59 one til two\n",
      "01:60 OOR\n",
      "24:00 OOR\n",
      "\n",
      "local time is twenty-nine past eleven\n",
      "None\n"
     ]
    }
   ],
   "source": [
    "# Copyright 2010 The BearHeart Gorup, LLC\n",
    "\n",
    "import sys\n",
    "import time\n",
    "\n",
    "__version__ = \"1.1.0\"\n",
    "\n",
    "class numwords():\n",
    "    \"\"\"\n",
    "        return a number as words,\n",
    "        e.g., 42 becomes \"forty-two\"\n",
    "    \"\"\"\n",
    "    _words = {\n",
    "        'ones': (\n",
    "            'oh', 'one', 'two', 'three', 'four', 'five', 'six', 'seven', 'eight', 'nine'\n",
    "        ), 'tens': (\n",
    "            '', 'ten', 'twenty', 'thirty', 'forty', 'fifty', 'sixty', 'seventy', 'eighty', 'ninety'\n",
    "        ), 'teens': (\n",
    "            'ten', 'eleven', 'twelve', 'thirteen', 'fourteen', 'fifteen', 'sixteen', 'seventeen', 'eighteen', 'nineteen' \n",
    "        ), 'quarters': (\n",
    "            'o\\'clock', 'quarter', 'half'\n",
    "        ), 'range': {\n",
    "            'hundred': 'hundred'\n",
    "        }, 'misc': {\n",
    "            'minus': 'minus'\n",
    "        }\n",
    "    }\n",
    "    _oor = 'OOR'    # Out Of Range\n",
    "\n",
    "    def __init__(self, n):\n",
    "        self.__number = n;\n",
    "\n",
    "    def numwords(self, num = None):\n",
    "        \"Return the number as words\"\n",
    "        n = self.__number if num is None else num\n",
    "        s = ''\n",
    "        if n < 0:           # negative numbers\n",
    "            s += self._words['misc']['minus'] + ' '\n",
    "            n = abs(n)\n",
    "        if n < 10:          # single-digit numbers\n",
    "            s += self._words['ones'][n]  \n",
    "        elif n < 20:        # teens\n",
    "            s += self._words['teens'][n - 10]\n",
    "        elif n < 100:       # tens\n",
    "            m = n % 10\n",
    "            t = n // 10\n",
    "            s += self._words['tens'][t]\n",
    "            if m: s += '-' + numwords(m).numwords()    # recurse for remainder\n",
    "        elif n < 1000:      # hundreds\n",
    "            m = n % 100\n",
    "            t = n // 100\n",
    "            s += self._words['ones'][t] + ' ' + self._words['range']['hundred']\n",
    "            if m: s += ' ' + numwords(m).numwords()    # recurse for remainder\n",
    "        else:\n",
    "            s += self._oor\n",
    "        return s\n",
    "\n",
    "    def number(self):\n",
    "        \"Return the number as a number\"\n",
    "        return str(self.__number);\n",
    "\n",
    "class saytime(numwords):\n",
    "    \"\"\"\n",
    "        return the time (from two parameters) as words,\n",
    "        e.g., fourteen til noon, quarter past one, etc.\n",
    "    \"\"\"\n",
    "\n",
    "    _specials = {\n",
    "        'noon': 'noon',\n",
    "        'midnight': 'midnight',\n",
    "        'til': 'til',\n",
    "        'past': 'past'\n",
    "    }\n",
    "\n",
    "    def __init__(self, h, m):\n",
    "        self._hour = abs(int(h))\n",
    "        self._min = abs(int(m))\n",
    "\n",
    "    def words(self):\n",
    "        h = self._hour\n",
    "        m = self._min\n",
    "        \n",
    "        if h > 23: return self._oor     # OOR errors\n",
    "        if m > 59: return self._oor\n",
    "\n",
    "        sign = self._specials['past']        \n",
    "        if self._min > 30:\n",
    "            sign = self._specials['til']\n",
    "            h += 1\n",
    "            m = 60 - m\n",
    "        if h > 23: h -= 24\n",
    "        elif h > 12: h -= 12\n",
    "\n",
    "        # hword is the hours word)\n",
    "        if h is 0: hword = self._specials['midnight']\n",
    "        elif h is 12: hword = self._specials['noon']\n",
    "        else: hword = self.numwords(h)\n",
    "\n",
    "        if m is 0:\n",
    "            if h in (0, 12): return hword   # for noon and midnight\n",
    "            else: return \"{} {}\".format(self.numwords(h), self._words['quarters'][m])\n",
    "        if m % 15 is 0:\n",
    "            return \"{} {} {}\".format(self._words['quarters'][m // 15], sign, hword) \n",
    "        return \"{} {} {}\".format(self.numwords(m), sign, hword) \n",
    "\n",
    "    def digits(self):\n",
    "        \"return the traditionl time, e.g., 13:42\"\n",
    "        return \"{:02}:{:02}\".format(self._hour, self._min)\n",
    "\n",
    "class saytime_t(saytime):   # wrapper for saytime to use time object\n",
    "    \"\"\"\n",
    "        return the time (from a time object) as words\n",
    "        e.g., fourteen til noon\n",
    "    \"\"\"\n",
    "    def __init__(self, t):\n",
    "        self._hour = t.tm_hour\n",
    "        self._min = t.tm_min\n",
    "\n",
    "def main():\n",
    "    if len(sys.argv) > 1:\n",
    "        if sys.argv[1] == 'test':\n",
    "            test()\n",
    "        else:\n",
    "            try: print(saytime(*(sys.argv[1].split(':'))).words())\n",
    "            except TypeError: print(\"Invalid time ({})\".format(sys.argv[1]))\n",
    "    else:\n",
    "        print(saytime_t(time.localtime()).words())\n",
    "\n",
    "def test():\n",
    "    print(\"\\nnumbers test:\")\n",
    "    list = (\n",
    "        0, 1, 2, 3, 4, 5, 6, 7, 8, 9, 10, 12, 15, 19, 20, 30, \n",
    "        50, 51, 52, 55, 59, 99, 100, 101, 112, 900, 999, 1000 \n",
    "    )\n",
    "    for l in list:\n",
    "        print(l, numwords(l).numwords())\n",
    "\n",
    "    print(\"\\ntime test:\")\n",
    "    list = (\n",
    "        (0, 0), (0, 1), (11, 0), (12, 0), (13, 0), (12, 29), (12, 30),\n",
    "        (12, 31), (12, 15), (12, 30), (12, 45), (11, 59), (23, 15), \n",
    "        (23, 59), (12, 59), (13, 59), (1, 60), (24, 0)\n",
    "    )\n",
    "    for l in list:\n",
    "        print(saytime(*l).digits(), saytime(*l).words())\n",
    "\n",
    "    print(\"\\nlocal time is \" + saytime_t(time.localtime()).words())\n",
    "\n",
    "# if __name__ == \"__main__\": main()\n",
    "\n",
    "print(test())"
   ]
  },
  {
   "cell_type": "markdown",
   "metadata": {},
   "source": [
    "## 18 Debugging"
   ]
  },
  {
   "cell_type": "markdown",
   "metadata": {},
   "source": [
    "**1801** `Dealing with syntax errors`"
   ]
  },
  {
   "cell_type": "code",
   "execution_count": 40,
   "metadata": {},
   "outputs": [
    {
     "name": "stdout",
     "output_type": "stream",
     "text": [
      "\n",
      "local time is twenty-eight til midnight\n"
     ]
    }
   ],
   "source": [
    "#!/usr/bin/python3\n",
    "# saytime-errors.py by Bill Weinman [http://bw.org/]\n",
    "# created for Python 3 Essential Training on lynda.com\n",
    "# Copyright 2010 The BearHeart Group, LLC\n",
    "import sys\n",
    "import time\n",
    "\n",
    "__version__ = \"1.1.0\"\n",
    "\n",
    "class numwords():\n",
    "    \"\"\"\n",
    "        return a number as words,\n",
    "        e.g., 42 becomes \"forty-two\"\n",
    "    \"\"\"\n",
    "    _words = {\n",
    "        'ones': (\n",
    "            'oh', 'one', 'two', 'three', 'four', 'five', 'six', 'seven', 'eight', 'nine'\n",
    "        ), 'tens': (\n",
    "            '', 'ten', 'twenty', 'thirty', 'forty', 'fifty', 'sixty', 'seventy', 'eighty', 'ninety'\n",
    "        ), 'teens': (\n",
    "            'ten', 'eleven', 'twelve', 'thirteen', 'fourteen', 'fifteen', 'sixteen', 'seventeen', 'eighteen', 'nineteen' \n",
    "        ), 'quarters': (\n",
    "            'o\\'clock', 'quarter', 'half'\n",
    "        ), 'range': {\n",
    "            'hundred': 'hundred'\n",
    "        }, 'misc': {\n",
    "            'minus': 'minus'\n",
    "        }\n",
    "    }\n",
    "    _oor = 'OOR'    # Out Of Range\n",
    "\n",
    "    def __init__(self, n):\n",
    "        self.__number = n;\n",
    "\n",
    "    def numwords(self, num = None):\n",
    "        \"Return the number as words\"\n",
    "        n = self.__number if num is None else num\n",
    "        s = ''\n",
    "        if n < 0:           # negative numbers\n",
    "            s += self._words['misc']['minus'] + ' '\n",
    "            n = abs(n)\n",
    "        if n < 10:          # single-digit numbers\n",
    "            s += self._words['ones'][n]  \n",
    "        elif n < 20:        # teens\n",
    "            s += self._words['teens'][n - 10]\n",
    "        elif n < 100:       # tens\n",
    "            m = n % 10\n",
    "            t = n // 10\n",
    "            s += self._words['tens'][t]\n",
    "            if m: s += '-' + numwords(m).numwords()    # recurse for remainder\n",
    "        elif n < 1000:      # hundreds\n",
    "            m = n % 100\n",
    "            t = n // 100\n",
    "            s += self._words['ones'][t] + ' ' + self._words['range']['hundred']\n",
    "            if m: s += ' ' + numwords(m).numwords()    # recurse for remainder\n",
    "        else:\n",
    "            s += self._oor\n",
    "        return s\n",
    "\n",
    "    def number(self):\n",
    "        \"Return the number as a number\"\n",
    "        return str(self.__number);\n",
    "\n",
    "class saytime(numwords):\n",
    "    \"\"\"\n",
    "        return the time (from two parameters) as words,\n",
    "        e.g., fourteen til noon, quarter past one, etc.\n",
    "    \"\"\"\n",
    "\n",
    "    _specials = {\n",
    "        'noon': 'noon',\n",
    "        'midnight': 'midnight',\n",
    "        'til': 'til',\n",
    "        'past': 'past'\n",
    "    }\n",
    "\n",
    "    def __init__(self, h, m):\n",
    "        self._hour = abs(int(h))\n",
    "        self._min = abs(int(m))\n",
    "\n",
    "    def words(self):\n",
    "        h = self._hour\n",
    "        m = self._min\n",
    "        \n",
    "        if h > 23: return self._oor     # OOR errors\n",
    "        if m > 59: return self._oor\n",
    "\n",
    "        sign = self._specials['past']        \n",
    "        if self._min > 30:\n",
    "            sign = self._specials['til']\n",
    "            h += 1\n",
    "            m = 60 - m\n",
    "        if h > 23: h -= 24\n",
    "        elif h > 12: h -= 12\n",
    "\n",
    "        # hword is the hours word)\n",
    "        if h is 0: hword = self._specials['midnight']\n",
    "        elif h is 12: hword = self._specials['noon']\n",
    "        else: hword = self.numwords(h)\n",
    "\n",
    "        if m is 0:\n",
    "            if h in (0, 12): return hword   # for noon and midnight\n",
    "            else: return \"{} {}\".format(self.numwords(h), self._words['quarters'][m])\n",
    "        if m % 15 is 0:\n",
    "            return \"{} {} {}\".format(self._words['quarters'][m // 15], sign, hword) \n",
    "        return \"{} {} {}\".format(self.numwords(m), sign, hword) \n",
    "\n",
    "    def digits(self):\n",
    "        \"return the traditionl time, e.g., 13:42\"\n",
    "        return \"{:02}:{:02}\".format(self._hour, self._min)\n",
    "\n",
    "class saytime_t(saytime):   # wrapper for saytime to use time object\n",
    "    \"\"\"\n",
    "        return the time (from a time object) as words\n",
    "        e.g., fourteen til noon\n",
    "    \"\"\"\n",
    "    def __init__(self, t):\n",
    "        self._hour = t.tm_hour\n",
    "        self._min = t.tm_min\n",
    "\n",
    "def main():\n",
    "    if len(sys.argv) > 1:\n",
    "        if sys.argv[1] == 'test':\n",
    "            test()\n",
    "        else:\n",
    "            try: print(saytime(*(sys.argv[1].split(':'))).words())\n",
    "            except TypeError: print(\"Invalid time ({})\".format(sys.argv[1]))\n",
    "    else:\n",
    "        print(saytime_t(time.localtime).words())\n",
    "\n",
    "def test():\n",
    "    print(\"\\nnumbers test:\")\n",
    "    list = (\n",
    "        0, 1, 2, 3, 4, 5, 6, 7, 8, 9, 10, 12, 15, 19, 20, 30, \n",
    "        50, 51, 52, 55, 59, 99, 100, 101, 112, 900, 999, 1000 \n",
    "    )\n",
    "    for l in list:\n",
    "        print(l, numwords(l).numwords())\n",
    "\n",
    "    print(\"\\ntime test:\")\n",
    "    list = (\n",
    "        (0, 0), (0, 1), (11, 0), (12, 0), (13, 0), (12, 29), (12, 30),\n",
    "        (12, 31), (12, 15), (12, 30), (12, 45), (11, 59), (23, 15), \n",
    "        (23, 59), (12, 59), (13, 59), (1, 60), (24, 0)\n",
    "    )\n",
    "    for l in list:\n",
    "        print(saytime(*l).digits(), saytime(*l).words())\n",
    "\n",
    "    print(\"\\nlocal time is \" + saytime_t(time.localtime()).words())\n",
    "\n",
    "# if __name__ == \"__main__\": main()\n",
    "\n",
    "print(\"\\nlocal time is \" + saytime_t(time.localtime()).words())\n"
   ]
  },
  {
   "cell_type": "markdown",
   "metadata": {},
   "source": [
    "**1802** `Dealing with runtime errors`"
   ]
  },
  {
   "cell_type": "code",
   "execution_count": 43,
   "metadata": {},
   "outputs": [
    {
     "name": "stdout",
     "output_type": "stream",
     "text": [
      "-- In the forest:\n",
      "Quaaaaak!\n",
      "The duck has gray and white feathers.\n",
      "The person imitates a duck.\n",
      "The person takes a feather from the ground and shows it.\n",
      "The dog has no quack\n",
      "The dog has no feathers\n",
      "-- In the doghouse:\n",
      "The duck has no bark\n",
      "The duck has no fur\n",
      "The person says woof!\n",
      "The person puts on a fur coat.\n",
      "Arf!\n",
      "The dog has white fur with black spots.\n"
     ]
    }
   ],
   "source": [
    "\n",
    "class AnimalActions:\n",
    "    def bark(self): return self._doAction('bark')\n",
    "    def fur(self): return self._doAction('fur')\n",
    "    def quack(self): return self._doAction('quack')\n",
    "    def feathers(self): return self._doAction('feathers')\n",
    "\n",
    "    def _doAction(self, action):\n",
    "        if action in self.strings:\n",
    "            return self.strings[action]\n",
    "        else:\n",
    "            return 'The {} has no {}'.format(self.animalName(), action)\n",
    "\n",
    "    def animalName(self):\n",
    "        return self.__class__.__name__.lower()\n",
    "\n",
    "# -- MODEL -- \n",
    "\n",
    "class Duck(AnimalActions):\n",
    "    strings = dict(\n",
    "        quack = \"Quaaaaak!\",\n",
    "        feathers = \"The duck has gray and white feathers.\"\n",
    "    )\n",
    " \n",
    "class Person(AnimalActions):\n",
    "    strings = dict(\n",
    "        bark = \"The person says woof!\",\n",
    "        fur = \"The person puts on a fur coat.\",\n",
    "        quack = \"The person imitates a duck.\",\n",
    "        feathers = \"The person takes a feather from the ground and shows it.\"\n",
    "    )\n",
    "\n",
    "class Dog(AnimalActions):\n",
    "    strings = dict(\n",
    "        bark = \"Arf!\",\n",
    "        fur = \"The dog has white fur with black spots.\",\n",
    "    )\n",
    "\n",
    "# -- VIEW -- \n",
    "\n",
    "def in_the_doghouse(dog):\n",
    "    print(dog.bark())\n",
    "    print(dog.fur())\n",
    "\n",
    "def in_the_forest(duck):\n",
    "    print(duck.quack())\n",
    "    print(duck.feathers())\n",
    " \n",
    "def main():\n",
    "    donald = Duck()\n",
    "    john = Person()\n",
    "    fido = Dog()\n",
    "\n",
    "    print(\"-- In the forest:\")\n",
    "    for o in ( donald, john, fido ):\n",
    "        in_the_forest(o)\n",
    "\n",
    "    print(\"-- In the doghouse:\")\n",
    "    for o in ( donald, john, fido ):\n",
    "        in_the_doghouse(o)\n",
    " \n",
    "if __name__ == \"__main__\": main()\n"
   ]
  },
  {
   "cell_type": "markdown",
   "metadata": {},
   "source": [
    "**1803** `Dealing with logical errors`"
   ]
  },
  {
   "cell_type": "code",
   "execution_count": 46,
   "metadata": {},
   "outputs": [
    {
     "name": "stdout",
     "output_type": "stream",
     "text": [
      "4 7 10 13 16 19 22 25 "
     ]
    }
   ],
   "source": [
    "class inclusive_range:\n",
    "    def __init__(self, *args):\n",
    "        numargs = len(args)\n",
    "        if numargs < 1: raise TypeError('Requires at least one argument')\n",
    "        elif numargs == 1:\n",
    "            self.start = 0\n",
    "            self.stop = args[0]\n",
    "            self.step = 1\n",
    "        elif numargs == 2:\n",
    "            (self.start, self.stop) = args\n",
    "            step = 1\n",
    "        elif numargs == 3:\n",
    "            (self.start, self.stop, self.step) = args\n",
    "        else: raise TypeError('inclusiveRange expected at most 3 arguments, got {}'.format(numargs))\n",
    "\n",
    "    def __iter__(self):\n",
    "        i = self.start\n",
    "        while i <= self.stop:\n",
    "            yield i\n",
    "            i += self.step\n",
    "\n",
    "def main():\n",
    "    o = inclusive_range(4, 25, 3)\n",
    "    for i in o: print(i, end = ' ')\n",
    "\n",
    "if __name__ == \"__main__\": main()"
   ]
  },
  {
   "cell_type": "markdown",
   "metadata": {},
   "source": [
    "**1804** `Using unit tests`"
   ]
  },
  {
   "cell_type": "code",
   "execution_count": 1,
   "metadata": {},
   "outputs": [],
   "source": [
    "import sys\n",
    "import time\n",
    "\n",
    "__version__ = \"1.1.0\"\n",
    "\n",
    "class numwords():\n",
    "    \"\"\"\n",
    "        return a number as words,\n",
    "        e.g., 42 becomes \"forty-two\"\n",
    "    \"\"\"\n",
    "    _words = {\n",
    "        'ones': (\n",
    "            'oh', 'one', 'two', 'three', 'four', 'five', 'six', 'seven', 'eight', 'nine'\n",
    "        ), 'tens': (\n",
    "            '', 'ten', 'twenty', 'thirty', 'forty', 'fifty', 'sixty', 'seventy', 'eighty', 'ninety'\n",
    "        ), 'teens': (\n",
    "            'ten', 'eleven', 'twelve', 'thirteen', 'fourteen', 'fifteen', 'sixteen', 'seventeen', 'eighteen', 'nineteen' \n",
    "        ), 'quarters': (\n",
    "            'o\\'clock', 'quarter', 'half'\n",
    "        ), 'range': {\n",
    "            'hundred': 'hundred'\n",
    "        }, 'misc': {\n",
    "            'minus': 'minus'\n",
    "        }\n",
    "    }\n",
    "    _oor = 'OOR'    # Out Of Range\n",
    "\n",
    "    def __init__(self, n):\n",
    "        self.__number = n;\n",
    "\n",
    "    def numwords(self, num = None):\n",
    "        \"Return the number as words\"\n",
    "        n = self.__number if num is None else num\n",
    "        s = ''\n",
    "        if n < 0:           # negative numbers\n",
    "            s += self._words['misc']['minus'] + ' '\n",
    "            n = abs(n)\n",
    "        if n < 10:          # single-digit numbers\n",
    "            s += self._words['ones'][n]  \n",
    "        elif n < 20:        # teens\n",
    "            s += self._words['teens'][n - 10]\n",
    "        elif n < 100:       # tens\n",
    "            m = n % 10\n",
    "            t = n // 10\n",
    "            s += self._words['tens'][t]\n",
    "            if m: s += '-' + numwords(m).numwords()    # recurse for remainder\n",
    "        elif n < 1000:      # hundreds\n",
    "            m = n % 100\n",
    "            t = n // 100\n",
    "            s += self._words['ones'][t] + ' ' + self._words['range']['hundred']\n",
    "            if m: s += ' ' + numwords(m).numwords()    # recurse for remainder\n",
    "        else:\n",
    "            s += self._oor\n",
    "        return s\n",
    "\n",
    "    def number(self):\n",
    "        \"Return the number as a number\"\n",
    "        return str(self.__number);\n",
    "\n",
    "class saytime(numwords):\n",
    "    \"\"\"\n",
    "        return the time (from two parameters) as words,\n",
    "        e.g., fourteen til noon, quarter past one, etc.\n",
    "    \"\"\"\n",
    "\n",
    "    _specials = {\n",
    "        'noon': 'noon',\n",
    "        'midnight': 'midnight',\n",
    "        'til': 'til',\n",
    "        'past': 'past'\n",
    "    }\n",
    "\n",
    "    def __init__(self, h, m):\n",
    "        self._hour = abs(int(h))\n",
    "        self._min = abs(int(m))\n",
    "\n",
    "    def words(self):\n",
    "        h = self._hour\n",
    "        m = self._min\n",
    "        \n",
    "        if h > 23: return self._oor     # OOR errors\n",
    "        if m > 59: return self._oor\n",
    "\n",
    "        sign = self._specials['past']        \n",
    "        if self._min > 30:\n",
    "            sign = self._specials['til']\n",
    "            h += 1\n",
    "            m = 60 - m\n",
    "        if h > 23: h -= 24\n",
    "        elif h > 12: h -= 12\n",
    "\n",
    "        # hword is the hours word)\n",
    "        if h is 0: hword = self._specials['midnight']\n",
    "        elif h is 12: hword = self._specials['noon']\n",
    "        else: hword = self.numwords(h)\n",
    "\n",
    "        if m is 0:\n",
    "            if h in (0, 12): return hword   # for noon and midnight\n",
    "            else: return \"{} {}\".format(self.numwords(h), self._words['quarters'][m])\n",
    "        if m % 15 is 0:\n",
    "            return \"{} {} {}\".format(self._words['quarters'][m // 15], sign, hword) \n",
    "        return \"{} {} {}\".format(self.numwords(m), sign, hword) \n",
    "\n",
    "    def digits(self):\n",
    "        \"return the traditionl time, e.g., 13:42\"\n",
    "        return \"{:02}:{:02}\".format(self._hour, self._min)\n",
    "\n",
    "class saytime_t(saytime):   # wrapper for saytime to use time object\n",
    "    \"\"\"\n",
    "        return the time (from a time object) as words\n",
    "        e.g., fourteen til noon\n",
    "    \"\"\"\n",
    "    def __init__(self, t):\n",
    "        self._hour = t.tm_hour\n",
    "        self._min = t.tm_min\n",
    "\n",
    "def main():\n",
    "    if len(sys.argv) > 1:\n",
    "        if sys.argv[1] == 'test':\n",
    "            test()\n",
    "        else:\n",
    "            try: print(saytime(*(sys.argv[1].split(':'))).words())\n",
    "            except TypeError: print(\"Invalid time ({})\".format(sys.argv[1]))\n",
    "    else:\n",
    "        print(saytime_t(time.localtime()).words())\n",
    "\n",
    "def test():\n",
    "    print(\"\\nnumbers test:\")\n",
    "    list = (\n",
    "        0, 1, 2, 3, 4, 5, 6, 7, 8, 9, 10, 12, 15, 19, 20, 30, \n",
    "        50, 51, 52, 55, 59, 99, 100, 101, 112, 900, 999, 1000 \n",
    "    )\n",
    "    for l in list:\n",
    "        print(l, numwords(l).numwords())\n",
    "\n",
    "    print(\"\\ntime test:\")\n",
    "    list = (\n",
    "        (0, 0), (0, 1), (11, 0), (12, 0), (13, 0), (12, 29), (12, 30),\n",
    "        (12, 31), (12, 15), (12, 30), (12, 45), (11, 59), (23, 15), \n",
    "        (23, 59), (12, 59), (13, 59), (1, 60), (24, 0)\n",
    "    )\n",
    "    for l in list:\n",
    "        print(saytime(*l).digits(), saytime(*l).words())\n",
    "\n",
    "    print(\"\\nlocal time is \" + saytime_t(time.localtime()).words())\n",
    "\n",
    "# if __name__ == \"__main__\": main()\n",
    "    \n",
    "# import saytime\n",
    "import unittest\n",
    "\n",
    "class TestSaytime(unittest.TestCase):\n",
    "    def setUp(self):\n",
    "        self.nums = list(range(11))\n",
    "\n",
    "    def test_numbers(self):\n",
    "        # make sure the numbers translate correctly\n",
    "        words = (\n",
    "            'oh', 'one', 'two', 'three', 'four', 'five',\n",
    "            'six', 'seven', 'eight', 'nine', 'ten'\n",
    "        )\n",
    "        for i, n in enumerate(self.nums):\n",
    "            self.assertEqual(saytime.numwords(n).numwords(), words[i])\n",
    "\n",
    "    def test_time(self):\n",
    "        time_tuples = (\n",
    "            (0, 0), (0, 1), (11, 0), (12, 0), (13, 0), (12, 29), (12, 30),\n",
    "            (12, 31), (12, 15), (12, 30), (12, 45), (11, 59), (23, 15), \n",
    "            (23, 59), (12, 59), (13, 59), (1, 60), (24, 0)\n",
    "        )\n",
    "        time_words = (\n",
    "            \"midnight\",\n",
    "            \"one past midnight\",\n",
    "            \"eleven o'clock\",\n",
    "            \"noon\",\n",
    "            \"one o'clock\",\n",
    "            \"twenty-nine past noon\",\n",
    "            \"half past noon\",\n",
    "            \"twenty-nine til one\",\n",
    "            \"quarter past noon\",\n",
    "            \"half past noon\",\n",
    "            \"quarter til one\",\n",
    "            \"one til noon\",\n",
    "            \"quarter past eleven\",\n",
    "            \"one til midnight\",\n",
    "            \"one til one\",\n",
    "            \"one til two\",\n",
    "            \"OOR\",\n",
    "            \"OOR\"\n",
    "        )\n",
    "        for i, t in enumerate(time_tuples):\n",
    "            self.assertEqual(saytime.saytime(*t).words(), time_words[i])\n",
    "\n",
    "# if __name__ == \"__main__\": unittest.main()"
   ]
  },
  {
   "cell_type": "code",
   "execution_count": null,
   "metadata": {},
   "outputs": [],
   "source": []
  }
 ],
 "metadata": {
  "kernelspec": {
   "display_name": "Python 3",
   "language": "python",
   "name": "python3"
  },
  "language_info": {
   "codemirror_mode": {
    "name": "ipython",
    "version": 3
   },
   "file_extension": ".py",
   "mimetype": "text/x-python",
   "name": "python",
   "nbconvert_exporter": "python",
   "pygments_lexer": "ipython3",
   "version": "3.7.1"
  }
 },
 "nbformat": 4,
 "nbformat_minor": 2
}
